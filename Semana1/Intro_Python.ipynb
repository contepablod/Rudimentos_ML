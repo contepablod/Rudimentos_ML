{
  "cells": [
    {
      "cell_type": "markdown",
      "metadata": {},
      "source": [
        "![Colegio Bourbaki](./Images/Bourbaki.png)"
      ]
    },
    {
      "cell_type": "markdown",
      "metadata": {
        "id": "QcYFkuR82pay"
      },
      "source": [
        "### Introducción a Python"
      ]
    },
    {
      "cell_type": "markdown",
      "metadata": {
        "id": "mfXMudHd2rUg"
      },
      "source": [
        "Python es un lenguaje de programación de propósito general ideado por el holandés Guido van Rossum  para ser simple en su escritura y lectura. La primera versión de Python fue lanzada en 1991 y la versión 1.0 en 1994. Hoy en día es uno de los lenguajes más extendidos.\n",
        "En la clase del día de hoy tendremos un primer acercamiento al lenguaje de programación Python y al entorno de trabajo Jupyter Notebook utilizando Google Colaboratory."
      ]
    },
    {
      "cell_type": "markdown",
      "metadata": {
        "id": "Ywq05ChclsaY"
      },
      "source": [
        "Numeros"
      ]
    },
    {
      "cell_type": "code",
      "execution_count": 1,
      "metadata": {
        "id": "VEynyLbNoTlJ"
      },
      "outputs": [],
      "source": [
        "x = 3.0"
      ]
    },
    {
      "cell_type": "code",
      "execution_count": 2,
      "metadata": {
        "colab": {
          "base_uri": "https://localhost:8080/"
        },
        "id": "3I2DOP6yubk1",
        "outputId": "06e40627-06d3-4543-862c-b1ed65ee63e2"
      },
      "outputs": [
        {
          "data": {
            "text/plain": [
              "3.0"
            ]
          },
          "execution_count": 2,
          "metadata": {},
          "output_type": "execute_result"
        }
      ],
      "source": [
        "x"
      ]
    },
    {
      "cell_type": "code",
      "execution_count": 3,
      "metadata": {
        "colab": {
          "base_uri": "https://localhost:8080/"
        },
        "id": "H_h_KWu7uegb",
        "outputId": "16c1b85a-f6d5-4942-c5fb-5ba8d32e4f89"
      },
      "outputs": [
        {
          "data": {
            "text/plain": [
              "float"
            ]
          },
          "execution_count": 3,
          "metadata": {},
          "output_type": "execute_result"
        }
      ],
      "source": [
        "type(x)"
      ]
    },
    {
      "cell_type": "code",
      "execution_count": 4,
      "metadata": {
        "colab": {
          "base_uri": "https://localhost:8080/"
        },
        "id": "TLK2EyxLlRPA",
        "outputId": "9f2f05b9-295f-48de-a555-fe4b4c3efcab"
      },
      "outputs": [
        {
          "data": {
            "text/plain": [
              "1.239"
            ]
          },
          "execution_count": 4,
          "metadata": {},
          "output_type": "execute_result"
        }
      ],
      "source": [
        "round(1.2385784, 3)"
      ]
    },
    {
      "cell_type": "code",
      "execution_count": 5,
      "metadata": {
        "colab": {
          "base_uri": "https://localhost:8080/"
        },
        "id": "BYesYYHQlWSm",
        "outputId": "82700d79-c226-4ea8-d612-c2ad9c2b51b9"
      },
      "outputs": [
        {
          "data": {
            "text/plain": [
              "6.300000000000001"
            ]
          },
          "execution_count": 5,
          "metadata": {},
          "output_type": "execute_result"
        }
      ],
      "source": [
        "a = 4.2\n",
        "b = 2.1\n",
        "a + b"
      ]
    },
    {
      "cell_type": "code",
      "execution_count": 6,
      "metadata": {
        "colab": {
          "base_uri": "https://localhost:8080/"
        },
        "id": "jINXLeYUlZkf",
        "outputId": "e5778c43-f013-4dab-b9b3-c2a317739ae9"
      },
      "outputs": [
        {
          "data": {
            "text/plain": [
              "True"
            ]
          },
          "execution_count": 6,
          "metadata": {},
          "output_type": "execute_result"
        }
      ],
      "source": [
        "(a + b) == 6.300000000000001"
      ]
    },
    {
      "cell_type": "code",
      "execution_count": 7,
      "metadata": {
        "colab": {
          "base_uri": "https://localhost:8080/"
        },
        "id": "wJvKwYrKldqz",
        "outputId": "02325fc1-c594-4e9c-8185-54affd22d3bb"
      },
      "outputs": [
        {
          "data": {
            "text/plain": [
              "Decimal('6.3')"
            ]
          },
          "execution_count": 7,
          "metadata": {},
          "output_type": "execute_result"
        }
      ],
      "source": [
        "from decimal import Decimal\n",
        "a = Decimal('4.2')\n",
        "b = Decimal('2.1')\n",
        "a + b"
      ]
    },
    {
      "cell_type": "code",
      "execution_count": 8,
      "metadata": {
        "colab": {
          "base_uri": "https://localhost:8080/"
        },
        "id": "n16UIij_liBp",
        "outputId": "e5599460-bcf7-454e-b62d-9858f8075801"
      },
      "outputs": [
        {
          "name": "stdout",
          "output_type": "stream",
          "text": [
            "6.3\n"
          ]
        }
      ],
      "source": [
        "print(a + b)"
      ]
    },
    {
      "cell_type": "code",
      "execution_count": 9,
      "metadata": {
        "colab": {
          "base_uri": "https://localhost:8080/"
        },
        "id": "IzGxC5mLljjP",
        "outputId": "637e36cf-f44b-473e-ec2d-9dda3b0c71d6"
      },
      "outputs": [
        {
          "data": {
            "text/plain": [
              "True"
            ]
          },
          "execution_count": 9,
          "metadata": {},
          "output_type": "execute_result"
        }
      ],
      "source": [
        "(a + b) == Decimal('6.3')"
      ]
    },
    {
      "cell_type": "code",
      "execution_count": 10,
      "metadata": {
        "colab": {
          "base_uri": "https://localhost:8080/",
          "height": 35
        },
        "id": "C5qaxbbKl5E6",
        "outputId": "a8c0cfda-578b-4008-a87f-cc94d87d1595"
      },
      "outputs": [
        {
          "data": {
            "application/vnd.google.colaboratory.intrinsic+json": {
              "type": "string"
            },
            "text/plain": [
              "'1234.568'"
            ]
          },
          "execution_count": 10,
          "metadata": {},
          "output_type": "execute_result"
        }
      ],
      "source": [
        "x = 1234.56789\n",
        "\n",
        "# Two decimal places of accuracy\n",
        "format(x, '0.3f')"
      ]
    },
    {
      "cell_type": "code",
      "execution_count": 11,
      "metadata": {
        "colab": {
          "base_uri": "https://localhost:8080/",
          "height": 35
        },
        "id": "w43F1K5ql-ms",
        "outputId": "9f073c90-489d-45ce-c3a9-7ead2570e4ba"
      },
      "outputs": [
        {
          "data": {
            "application/vnd.google.colaboratory.intrinsic+json": {
              "type": "string"
            },
            "text/plain": [
              "'0b10011010010'"
            ]
          },
          "execution_count": 11,
          "metadata": {},
          "output_type": "execute_result"
        }
      ],
      "source": [
        "x = 1234\n",
        "bin(x)"
      ]
    },
    {
      "cell_type": "code",
      "execution_count": 12,
      "metadata": {
        "colab": {
          "base_uri": "https://localhost:8080/",
          "height": 35
        },
        "id": "dtYeEcdFmFbl",
        "outputId": "0e887f2e-ddd3-40b0-bd73-58f48f47ce3f"
      },
      "outputs": [
        {
          "data": {
            "application/vnd.google.colaboratory.intrinsic+json": {
              "type": "string"
            },
            "text/plain": [
              "'0o2322'"
            ]
          },
          "execution_count": 12,
          "metadata": {},
          "output_type": "execute_result"
        }
      ],
      "source": [
        "oct(x)"
      ]
    },
    {
      "cell_type": "code",
      "execution_count": 13,
      "metadata": {
        "colab": {
          "base_uri": "https://localhost:8080/",
          "height": 35
        },
        "id": "_4Zt-ITxmHcK",
        "outputId": "2435ce02-74b2-40cc-8e30-4b6a16281c49"
      },
      "outputs": [
        {
          "data": {
            "application/vnd.google.colaboratory.intrinsic+json": {
              "type": "string"
            },
            "text/plain": [
              "'0x4d2'"
            ]
          },
          "execution_count": 13,
          "metadata": {},
          "output_type": "execute_result"
        }
      ],
      "source": [
        "hex(x)"
      ]
    },
    {
      "cell_type": "code",
      "execution_count": 14,
      "metadata": {
        "colab": {
          "base_uri": "https://localhost:8080/",
          "height": 35
        },
        "id": "5B8fKOr0mMI2",
        "outputId": "3a3b426e-6e66-48b5-8b3f-c63f701c41a4"
      },
      "outputs": [
        {
          "data": {
            "application/vnd.google.colaboratory.intrinsic+json": {
              "type": "string"
            },
            "text/plain": [
              "'11'"
            ]
          },
          "execution_count": 14,
          "metadata": {},
          "output_type": "execute_result"
        }
      ],
      "source": [
        "x = 3\n",
        "format(x, 'b')"
      ]
    },
    {
      "cell_type": "code",
      "execution_count": 15,
      "metadata": {
        "id": "J6sh_CiMmQML"
      },
      "outputs": [],
      "source": [
        "data = b'\\x00\\x124V\\x00x\\x90\\xab\\x00\\xcd\\xef\\x01\\x00#\\x004'"
      ]
    },
    {
      "cell_type": "code",
      "execution_count": 16,
      "metadata": {
        "colab": {
          "base_uri": "https://localhost:8080/"
        },
        "id": "QTM9XYJMmSZT",
        "outputId": "12cc0b61-6498-47a4-9395-11e4a153d5a0"
      },
      "outputs": [
        {
          "data": {
            "text/plain": [
              "16"
            ]
          },
          "execution_count": 16,
          "metadata": {},
          "output_type": "execute_result"
        }
      ],
      "source": [
        "len(data)"
      ]
    },
    {
      "cell_type": "code",
      "execution_count": 17,
      "metadata": {
        "colab": {
          "base_uri": "https://localhost:8080/"
        },
        "id": "J3qG664-mUf0",
        "outputId": "68bd6c5f-0cd8-489c-e62a-c9ebf849de75"
      },
      "outputs": [
        {
          "data": {
            "text/plain": [
              "69120565665751139577663547927094891008"
            ]
          },
          "execution_count": 17,
          "metadata": {},
          "output_type": "execute_result"
        }
      ],
      "source": [
        "int.from_bytes(data, 'little')"
      ]
    },
    {
      "cell_type": "code",
      "execution_count": 18,
      "metadata": {
        "colab": {
          "base_uri": "https://localhost:8080/"
        },
        "id": "PoKI-pXkmabp",
        "outputId": "2f47fb5e-32d3-41ff-9271-baab62669a18"
      },
      "outputs": [
        {
          "data": {
            "text/plain": [
              "94522842520747284487117727783387188"
            ]
          },
          "execution_count": 18,
          "metadata": {},
          "output_type": "execute_result"
        }
      ],
      "source": [
        "int.from_bytes(data, 'big')"
      ]
    },
    {
      "cell_type": "code",
      "execution_count": 19,
      "metadata": {
        "colab": {
          "base_uri": "https://localhost:8080/"
        },
        "id": "5rGktSM-me_t",
        "outputId": "f133d97e-f928-4e8f-a343-825eb2307226"
      },
      "outputs": [
        {
          "data": {
            "text/plain": [
              "b'\\x00\\x124V\\x00x\\x90\\xab\\x00\\xcd\\xef\\x01\\x00#\\x004'"
            ]
          },
          "execution_count": 19,
          "metadata": {},
          "output_type": "execute_result"
        }
      ],
      "source": [
        "x = 94522842520747284487117727783387188\n",
        "x.to_bytes(16, 'big')"
      ]
    },
    {
      "cell_type": "markdown",
      "metadata": {
        "id": "mGgpZGvSluU5"
      },
      "source": [
        "Text"
      ]
    },
    {
      "cell_type": "code",
      "execution_count": 20,
      "metadata": {
        "id": "Gg3i_6oylws_"
      },
      "outputs": [],
      "source": [
        "line = 'asdf fjdk; afed, fjek,asdf,     foo'"
      ]
    },
    {
      "cell_type": "code",
      "execution_count": 21,
      "metadata": {
        "colab": {
          "base_uri": "https://localhost:8080/"
        },
        "id": "ysuEJXdIwkda",
        "outputId": "e475b076-7d63-4dc5-bdcf-a3403158d2d4"
      },
      "outputs": [
        {
          "data": {
            "text/plain": [
              "35"
            ]
          },
          "execution_count": 21,
          "metadata": {},
          "output_type": "execute_result"
        }
      ],
      "source": [
        "len(line)"
      ]
    },
    {
      "cell_type": "code",
      "execution_count": 22,
      "metadata": {
        "colab": {
          "base_uri": "https://localhost:8080/"
        },
        "id": "xt4yLlApwpOy",
        "outputId": "84a31ccb-ea8c-4ae7-9100-23f2ac3012f5"
      },
      "outputs": [
        {
          "data": {
            "text/plain": [
              "str"
            ]
          },
          "execution_count": 22,
          "metadata": {},
          "output_type": "execute_result"
        }
      ],
      "source": [
        "type(line)"
      ]
    },
    {
      "cell_type": "code",
      "execution_count": 23,
      "metadata": {
        "colab": {
          "base_uri": "https://localhost:8080/"
        },
        "id": "Frbwld1Zk4K4",
        "outputId": "e30344ff-e0a0-406e-a239-9407673ea050"
      },
      "outputs": [
        {
          "data": {
            "text/plain": [
              "['asdf', 'fjdk', 'afed', 'fjek', 'asdf', 'foo']"
            ]
          },
          "execution_count": 23,
          "metadata": {},
          "output_type": "execute_result"
        }
      ],
      "source": [
        "import re\n",
        "re.split(r'[;,\\s]\\s*', line)"
      ]
    },
    {
      "cell_type": "code",
      "execution_count": 24,
      "metadata": {
        "colab": {
          "base_uri": "https://localhost:8080/"
        },
        "id": "tiu-4IPCk7zl",
        "outputId": "50c91c38-9059-4aab-ebbb-5efc182203c8"
      },
      "outputs": [
        {
          "data": {
            "text/plain": [
              "['asdf', ' ', 'fjdk', ';', 'afed', ',', 'fjek', ',', 'asdf', ',', 'foo']"
            ]
          },
          "execution_count": 24,
          "metadata": {},
          "output_type": "execute_result"
        }
      ],
      "source": [
        "fields = re.split(r'(;|,|\\s)\\s*', line)\n",
        "fields"
      ]
    },
    {
      "cell_type": "code",
      "execution_count": 25,
      "metadata": {
        "id": "4lZzbRSIk90v"
      },
      "outputs": [],
      "source": [
        "values = fields[::2]"
      ]
    },
    {
      "cell_type": "code",
      "execution_count": 26,
      "metadata": {
        "colab": {
          "base_uri": "https://localhost:8080/"
        },
        "id": "NukcY-UrxcZ2",
        "outputId": "85938638-a290-4f81-c206-a695705a6df8"
      },
      "outputs": [
        {
          "data": {
            "text/plain": [
              "['asdf', 'fjdk', 'afed', 'fjek', 'asdf', 'foo']"
            ]
          },
          "execution_count": 26,
          "metadata": {},
          "output_type": "execute_result"
        }
      ],
      "source": [
        "values"
      ]
    },
    {
      "cell_type": "code",
      "execution_count": 27,
      "metadata": {
        "id": "c7as_SE7xUCv"
      },
      "outputs": [],
      "source": [
        "delimiters = fields[1::2] + ['']"
      ]
    },
    {
      "cell_type": "code",
      "execution_count": 28,
      "metadata": {
        "colab": {
          "base_uri": "https://localhost:8080/"
        },
        "id": "TXnmzTYZlAja",
        "outputId": "4b341ebd-3093-4cab-8138-b0d4286159c0"
      },
      "outputs": [
        {
          "data": {
            "text/plain": [
              "[' ', ';', ',', ',', ',', '']"
            ]
          },
          "execution_count": 28,
          "metadata": {},
          "output_type": "execute_result"
        }
      ],
      "source": [
        "delimiters"
      ]
    },
    {
      "cell_type": "code",
      "execution_count": 29,
      "metadata": {
        "colab": {
          "base_uri": "https://localhost:8080/",
          "height": 35
        },
        "id": "k2vzif01nFra",
        "outputId": "58ffd4af-d1ca-41b0-bda5-f24a4f50eb8c"
      },
      "outputs": [
        {
          "data": {
            "application/vnd.google.colaboratory.intrinsic+json": {
              "type": "string"
            },
            "text/plain": [
              "'asdf fjdk;afed,fjek,asdf,foo'"
            ]
          },
          "execution_count": 29,
          "metadata": {},
          "output_type": "execute_result"
        }
      ],
      "source": [
        "''.join(v+d for v,d in zip(values, delimiters))"
      ]
    },
    {
      "cell_type": "code",
      "execution_count": 30,
      "metadata": {
        "colab": {
          "base_uri": "https://localhost:8080/"
        },
        "id": "4GSCZLWZnIuQ",
        "outputId": "b1096414-321e-4537-8b26-76b3e82e0449"
      },
      "outputs": [
        {
          "data": {
            "text/plain": [
              "['asdf', 'fjdk', 'afed', 'fjek', 'asdf', 'foo']"
            ]
          },
          "execution_count": 30,
          "metadata": {},
          "output_type": "execute_result"
        }
      ],
      "source": [
        "re.split(r'(?:,|;|\\s)\\s*', line)"
      ]
    },
    {
      "cell_type": "markdown",
      "metadata": {
        "id": "2v4t350TmptO"
      },
      "source": [
        "Matrices:"
      ]
    },
    {
      "cell_type": "code",
      "execution_count": 31,
      "metadata": {
        "colab": {
          "base_uri": "https://localhost:8080/"
        },
        "id": "BLZMcRDXmrla",
        "outputId": "08606f8a-097d-4443-b5e3-05926ee6692b"
      },
      "outputs": [
        {
          "data": {
            "text/plain": [
              "matrix([[ 1, -2,  3],\n",
              "        [ 0,  4,  5],\n",
              "        [ 7,  8, -9]])"
            ]
          },
          "execution_count": 31,
          "metadata": {},
          "output_type": "execute_result"
        }
      ],
      "source": [
        "import numpy as np\n",
        "m = np.matrix([[1,-2,3],[0,4,5],[7,8,-9]])\n",
        "m"
      ]
    },
    {
      "cell_type": "code",
      "execution_count": 32,
      "metadata": {
        "colab": {
          "base_uri": "https://localhost:8080/"
        },
        "id": "vjXKIKyIyLG2",
        "outputId": "c5008e88-f4a2-4a95-fc68-1d5312df325d"
      },
      "outputs": [
        {
          "data": {
            "text/plain": [
              "(3, 3)"
            ]
          },
          "execution_count": 32,
          "metadata": {},
          "output_type": "execute_result"
        }
      ],
      "source": [
        "m.shape"
      ]
    },
    {
      "cell_type": "code",
      "execution_count": 33,
      "metadata": {
        "colab": {
          "base_uri": "https://localhost:8080/"
        },
        "id": "RA0BsY2omvbe",
        "outputId": "cc30bb63-5bbb-448c-eabe-a23b0f50f406"
      },
      "outputs": [
        {
          "data": {
            "text/plain": [
              "matrix([[ 1,  0,  7],\n",
              "        [-2,  4,  8],\n",
              "        [ 3,  5, -9]])"
            ]
          },
          "execution_count": 33,
          "metadata": {},
          "output_type": "execute_result"
        }
      ],
      "source": [
        "m.T"
      ]
    },
    {
      "cell_type": "code",
      "execution_count": 34,
      "metadata": {
        "colab": {
          "base_uri": "https://localhost:8080/"
        },
        "id": "crk2JBYkmx6Q",
        "outputId": "a4729a42-4d53-4d8c-b62d-d6debd334730"
      },
      "outputs": [
        {
          "data": {
            "text/plain": [
              "matrix([[ 0.33043478, -0.02608696,  0.09565217],\n",
              "        [-0.15217391,  0.13043478,  0.02173913],\n",
              "        [ 0.12173913,  0.09565217, -0.0173913 ]])"
            ]
          },
          "execution_count": 34,
          "metadata": {},
          "output_type": "execute_result"
        }
      ],
      "source": [
        "m.I"
      ]
    },
    {
      "cell_type": "code",
      "execution_count": 35,
      "metadata": {
        "colab": {
          "base_uri": "https://localhost:8080/"
        },
        "id": "ymE2Xrmgm0Q_",
        "outputId": "a520d751-fc38-46df-ed9a-2fa6523c0c0d"
      },
      "outputs": [
        {
          "data": {
            "text/plain": [
              "matrix([[2],\n",
              "        [3],\n",
              "        [4]])"
            ]
          },
          "execution_count": 35,
          "metadata": {},
          "output_type": "execute_result"
        }
      ],
      "source": [
        "v = np.matrix([[2], [3], [4]])\n",
        "v"
      ]
    },
    {
      "cell_type": "code",
      "execution_count": 36,
      "metadata": {
        "colab": {
          "base_uri": "https://localhost:8080/"
        },
        "id": "Dyuzgm_7yNrz",
        "outputId": "03274c98-9f2d-46a3-9e54-f6d1370f4f77"
      },
      "outputs": [
        {
          "data": {
            "text/plain": [
              "(3, 1)"
            ]
          },
          "execution_count": 36,
          "metadata": {},
          "output_type": "execute_result"
        }
      ],
      "source": [
        "v.shape"
      ]
    },
    {
      "cell_type": "code",
      "execution_count": 37,
      "metadata": {
        "colab": {
          "base_uri": "https://localhost:8080/"
        },
        "id": "0zPUhNxinCL0",
        "outputId": "ff0fb37a-1845-43c7-f90b-873d371f0148"
      },
      "outputs": [
        {
          "data": {
            "text/plain": [
              "matrix([[ 8],\n",
              "        [32],\n",
              "        [ 2]])"
            ]
          },
          "execution_count": 37,
          "metadata": {},
          "output_type": "execute_result"
        }
      ],
      "source": [
        "m * v"
      ]
    },
    {
      "cell_type": "code",
      "execution_count": 38,
      "metadata": {
        "colab": {
          "base_uri": "https://localhost:8080/"
        },
        "id": "g2EXGo0BlC71",
        "outputId": "82c3ba1c-7771-4f9e-8c3f-8965d65b0bd0"
      },
      "outputs": [
        {
          "data": {
            "text/plain": [
              "-229.99999999999983"
            ]
          },
          "execution_count": 38,
          "metadata": {},
          "output_type": "execute_result"
        }
      ],
      "source": [
        "import numpy.linalg\n",
        "\n",
        "# Determinant\n",
        "numpy.linalg.det(m)"
      ]
    },
    {
      "cell_type": "code",
      "execution_count": 39,
      "metadata": {
        "colab": {
          "base_uri": "https://localhost:8080/"
        },
        "id": "3soTR45TnUfT",
        "outputId": "6e759d06-da2d-4f3b-c136-a036c13e3974"
      },
      "outputs": [
        {
          "data": {
            "text/plain": [
              "array([-13.11474312,   2.75956154,   6.35518158])"
            ]
          },
          "execution_count": 39,
          "metadata": {},
          "output_type": "execute_result"
        }
      ],
      "source": [
        "numpy.linalg.eigvals(m)"
      ]
    },
    {
      "cell_type": "code",
      "execution_count": 40,
      "metadata": {
        "colab": {
          "base_uri": "https://localhost:8080/"
        },
        "id": "GH-eIb1blFax",
        "outputId": "a0b6a4f9-957a-465d-8f13-21239bf59109"
      },
      "outputs": [
        {
          "data": {
            "text/plain": [
              "matrix([[0.96521739],\n",
              "        [0.17391304],\n",
              "        [0.46086957]])"
            ]
          },
          "execution_count": 40,
          "metadata": {},
          "output_type": "execute_result"
        }
      ],
      "source": [
        "x = numpy.linalg.solve(m, v)\n",
        "x"
      ]
    },
    {
      "cell_type": "markdown",
      "metadata": {
        "id": "b6pAoD-qncf7"
      },
      "source": [
        "Random"
      ]
    },
    {
      "cell_type": "code",
      "execution_count": 41,
      "metadata": {
        "colab": {
          "base_uri": "https://localhost:8080/"
        },
        "id": "XLiIY5qendY9",
        "outputId": "b02a1951-47aa-4497-8cd2-b6405b9017bb"
      },
      "outputs": [
        {
          "data": {
            "text/plain": [
              "5"
            ]
          },
          "execution_count": 41,
          "metadata": {},
          "output_type": "execute_result"
        }
      ],
      "source": [
        "import random\n",
        "values = [1, 2, 3, 4, 5, 6]\n",
        "random.choice(values)"
      ]
    },
    {
      "cell_type": "code",
      "execution_count": 42,
      "metadata": {
        "colab": {
          "base_uri": "https://localhost:8080/"
        },
        "id": "-i8u4RTonflD",
        "outputId": "161241bf-e5e2-4c89-9b0b-2ce9792a3007"
      },
      "outputs": [
        {
          "data": {
            "text/plain": [
              "1"
            ]
          },
          "execution_count": 42,
          "metadata": {},
          "output_type": "execute_result"
        }
      ],
      "source": [
        "random.choice(values)"
      ]
    },
    {
      "cell_type": "code",
      "execution_count": 43,
      "metadata": {
        "colab": {
          "base_uri": "https://localhost:8080/"
        },
        "id": "9rXqBnrPnhbc",
        "outputId": "7fd277cb-5456-4f18-d4f5-18770d06647b"
      },
      "outputs": [
        {
          "data": {
            "text/plain": [
              "2"
            ]
          },
          "execution_count": 43,
          "metadata": {},
          "output_type": "execute_result"
        }
      ],
      "source": [
        "random.choice(values)"
      ]
    },
    {
      "cell_type": "code",
      "execution_count": 44,
      "metadata": {
        "colab": {
          "base_uri": "https://localhost:8080/"
        },
        "id": "4ckXo7Tonmwd",
        "outputId": "d348b343-4374-4d20-ba4e-35f89d07972f"
      },
      "outputs": [
        {
          "data": {
            "text/plain": [
              "[2, 4]"
            ]
          },
          "execution_count": 44,
          "metadata": {},
          "output_type": "execute_result"
        }
      ],
      "source": [
        "random.sample(values, 2)"
      ]
    },
    {
      "cell_type": "code",
      "execution_count": 45,
      "metadata": {
        "colab": {
          "base_uri": "https://localhost:8080/"
        },
        "id": "bjcrgYmJno-W",
        "outputId": "626de71e-fdd6-4466-c891-6ac4bbb86fba"
      },
      "outputs": [
        {
          "data": {
            "text/plain": [
              "[3, 2, 6]"
            ]
          },
          "execution_count": 45,
          "metadata": {},
          "output_type": "execute_result"
        }
      ],
      "source": [
        "random.sample(values, 3)"
      ]
    },
    {
      "cell_type": "code",
      "execution_count": 46,
      "metadata": {
        "colab": {
          "base_uri": "https://localhost:8080/"
        },
        "id": "zLD4e5WantmR",
        "outputId": "54aa4313-0c34-450c-d192-60143d442532"
      },
      "outputs": [
        {
          "data": {
            "text/plain": [
              "[5, 4, 6, 1, 2, 3]"
            ]
          },
          "execution_count": 46,
          "metadata": {},
          "output_type": "execute_result"
        }
      ],
      "source": [
        "random.shuffle(values)\n",
        "values"
      ]
    },
    {
      "cell_type": "markdown",
      "metadata": {
        "id": "pxelge5Kn2Oe"
      },
      "source": [
        "Tiempo"
      ]
    },
    {
      "cell_type": "code",
      "execution_count": 47,
      "metadata": {
        "colab": {
          "base_uri": "https://localhost:8080/"
        },
        "id": "mLRcN_kwn3Ii",
        "outputId": "3ebdb24a-ce39-4439-88c4-f1af012f73dd"
      },
      "outputs": [
        {
          "data": {
            "text/plain": [
              "2"
            ]
          },
          "execution_count": 47,
          "metadata": {},
          "output_type": "execute_result"
        }
      ],
      "source": [
        "from datetime import timedelta\n",
        "a = timedelta(days=2, hours=6)\n",
        "b = timedelta(hours=4.5)\n",
        "c = a + b\n",
        "c.days"
      ]
    },
    {
      "cell_type": "code",
      "execution_count": 48,
      "metadata": {
        "colab": {
          "base_uri": "https://localhost:8080/"
        },
        "id": "n7kfR857n7-l",
        "outputId": "4f3e5e00-7a48-4535-fcaa-9e4f9894f99a"
      },
      "outputs": [
        {
          "data": {
            "text/plain": [
              "37800"
            ]
          },
          "execution_count": 48,
          "metadata": {},
          "output_type": "execute_result"
        }
      ],
      "source": [
        "c.seconds"
      ]
    },
    {
      "cell_type": "code",
      "execution_count": 49,
      "metadata": {
        "colab": {
          "base_uri": "https://localhost:8080/"
        },
        "id": "aAcJ2DVBn_HQ",
        "outputId": "c83a058d-443a-4def-b411-38faea61fe21"
      },
      "outputs": [
        {
          "data": {
            "text/plain": [
              "10.5"
            ]
          },
          "execution_count": 49,
          "metadata": {},
          "output_type": "execute_result"
        }
      ],
      "source": [
        "c.seconds / 3600"
      ]
    },
    {
      "cell_type": "code",
      "execution_count": 50,
      "metadata": {
        "colab": {
          "base_uri": "https://localhost:8080/"
        },
        "id": "IAsnOsCuoCA7",
        "outputId": "c43a2694-b0a8-4a7b-940a-5b5cf4b8fc5d"
      },
      "outputs": [
        {
          "data": {
            "text/plain": [
              "58.5"
            ]
          },
          "execution_count": 50,
          "metadata": {},
          "output_type": "execute_result"
        }
      ],
      "source": [
        "c.total_seconds() / 3600"
      ]
    },
    {
      "cell_type": "code",
      "execution_count": 51,
      "metadata": {
        "colab": {
          "base_uri": "https://localhost:8080/"
        },
        "id": "EgKHNBdmoGBl",
        "outputId": "b07e5321-821d-4280-b575-5c47c7a59219"
      },
      "outputs": [
        {
          "name": "stdout",
          "output_type": "stream",
          "text": [
            "2012-10-03 00:00:00\n"
          ]
        }
      ],
      "source": [
        "from datetime import datetime\n",
        "a = datetime(2012, 9, 23)\n",
        "print(a + timedelta(days=10))"
      ]
    },
    {
      "cell_type": "code",
      "execution_count": 52,
      "metadata": {
        "colab": {
          "base_uri": "https://localhost:8080/"
        },
        "id": "oBMYVX61oK1k",
        "outputId": "b5c5e8c0-5c95-4c8d-a24f-fbff2c198c14"
      },
      "outputs": [
        {
          "data": {
            "text/plain": [
              "89"
            ]
          },
          "execution_count": 52,
          "metadata": {},
          "output_type": "execute_result"
        }
      ],
      "source": [
        "b = datetime(2012, 12, 21)\n",
        "d = b - a\n",
        "d.days"
      ]
    },
    {
      "cell_type": "code",
      "execution_count": 53,
      "metadata": {
        "colab": {
          "base_uri": "https://localhost:8080/"
        },
        "id": "8CmoZclNoOZD",
        "outputId": "0d554f70-e5df-4d40-ec67-610abb73339e"
      },
      "outputs": [
        {
          "name": "stdout",
          "output_type": "stream",
          "text": [
            "2024-02-27 15:30:41.099940\n"
          ]
        }
      ],
      "source": [
        "now = datetime.today()\n",
        "print(now)"
      ]
    },
    {
      "cell_type": "code",
      "execution_count": 54,
      "metadata": {
        "colab": {
          "base_uri": "https://localhost:8080/"
        },
        "id": "fL1YwZeeoQuj",
        "outputId": "589e3d75-fc32-4b61-d9c7-3979b15dee99"
      },
      "outputs": [
        {
          "name": "stdout",
          "output_type": "stream",
          "text": [
            "2024-02-27 15:40:41.099940\n"
          ]
        }
      ],
      "source": [
        "print(now + timedelta(minutes=10))"
      ]
    },
    {
      "cell_type": "markdown",
      "metadata": {
        "id": "h2p_eHGBow-K"
      },
      "source": [
        "Iteradores"
      ]
    },
    {
      "cell_type": "code",
      "execution_count": 55,
      "metadata": {
        "colab": {
          "base_uri": "https://localhost:8080/"
        },
        "id": "XVplF0e2oyU0",
        "outputId": "9ba20cfd-0afa-4eb8-fec8-62c4d354baa5"
      },
      "outputs": [
        {
          "data": {
            "text/plain": [
              "1"
            ]
          },
          "execution_count": 55,
          "metadata": {},
          "output_type": "execute_result"
        }
      ],
      "source": [
        "items = [1, 2, 3]\n",
        "# Get the iterator\n",
        "it = iter(items)  # Invokes items.__iter__()\n",
        "# Run the iterator\n",
        "next(it)  # Invokes it.__next__()"
      ]
    },
    {
      "cell_type": "code",
      "execution_count": 56,
      "metadata": {
        "colab": {
          "base_uri": "https://localhost:8080/"
        },
        "id": "D99LS1mco18E",
        "outputId": "54578287-337a-46c2-ef44-e9f761c79009"
      },
      "outputs": [
        {
          "data": {
            "text/plain": [
              "2"
            ]
          },
          "execution_count": 56,
          "metadata": {},
          "output_type": "execute_result"
        }
      ],
      "source": [
        "next(it)"
      ]
    },
    {
      "cell_type": "code",
      "execution_count": 57,
      "metadata": {
        "colab": {
          "base_uri": "https://localhost:8080/"
        },
        "id": "KCgLiVTv0hh0",
        "outputId": "926366ea-5460-43eb-b43e-fdf874913d03"
      },
      "outputs": [
        {
          "data": {
            "text/plain": [
              "3"
            ]
          },
          "execution_count": 57,
          "metadata": {},
          "output_type": "execute_result"
        }
      ],
      "source": [
        "next(it)"
      ]
    },
    {
      "cell_type": "code",
      "execution_count": 58,
      "metadata": {
        "colab": {
          "base_uri": "https://localhost:8080/",
          "height": 141
        },
        "id": "ioS77RNX0oD0",
        "outputId": "37488a52-7c53-419f-f076-fa525fcb931a"
      },
      "outputs": [
        {
          "ename": "StopIteration",
          "evalue": "",
          "output_type": "error",
          "traceback": [
            "\u001b[0;31m---------------------------------------------------------------------------\u001b[0m",
            "\u001b[0;31mStopIteration\u001b[0m                             Traceback (most recent call last)",
            "\u001b[0;32m<ipython-input-58-bc1ab118995a>\u001b[0m in \u001b[0;36m<cell line: 1>\u001b[0;34m()\u001b[0m\n\u001b[0;32m----> 1\u001b[0;31m \u001b[0mnext\u001b[0m\u001b[0;34m(\u001b[0m\u001b[0mit\u001b[0m\u001b[0;34m)\u001b[0m\u001b[0;34m\u001b[0m\u001b[0;34m\u001b[0m\u001b[0m\n\u001b[0m",
            "\u001b[0;31mStopIteration\u001b[0m: "
          ]
        }
      ],
      "source": [
        "next(it)"
      ]
    },
    {
      "cell_type": "code",
      "execution_count": 59,
      "metadata": {
        "colab": {
          "base_uri": "https://localhost:8080/"
        },
        "id": "RxkbvpCTqxrp",
        "outputId": "e196e58d-e573-4235-be7a-0b2a04949436"
      },
      "outputs": [
        {
          "name": "stdout",
          "output_type": "stream",
          "text": [
            "0\n",
            "1\n",
            "2\n",
            "3\n"
          ]
        }
      ],
      "source": [
        "for n in range(0, 4, 1):\n",
        "    print(n)"
      ]
    },
    {
      "cell_type": "code",
      "execution_count": 60,
      "metadata": {
        "colab": {
          "base_uri": "https://localhost:8080/"
        },
        "id": "CXb1Aekpo8yW",
        "outputId": "3168ea01-ec7c-4bdf-efed-270fe99ebeaa"
      },
      "outputs": [
        {
          "name": "stdout",
          "output_type": "stream",
          "text": [
            "0\n",
            "2\n"
          ]
        }
      ],
      "source": [
        "for n in range(0, 4, 2):\n",
        "    print(n)"
      ]
    },
    {
      "cell_type": "code",
      "execution_count": 61,
      "metadata": {
        "colab": {
          "base_uri": "https://localhost:8080/"
        },
        "id": "l30fsCTUpBkD",
        "outputId": "880d3ef8-fb8c-4c81-a3dd-3f8d2cc2adc9"
      },
      "outputs": [
        {
          "name": "stdout",
          "output_type": "stream",
          "text": [
            "4\n",
            "3\n",
            "2\n",
            "1\n"
          ]
        }
      ],
      "source": [
        "a = [1, 2, 3, 4]\n",
        "for x in reversed(a):\n",
        "    print(x)"
      ]
    },
    {
      "cell_type": "code",
      "execution_count": 62,
      "metadata": {
        "colab": {
          "base_uri": "https://localhost:8080/"
        },
        "id": "93gRcb2W1ELb",
        "outputId": "6721d960-a485-4944-e33a-0309658ebb25"
      },
      "outputs": [
        {
          "name": "stdout",
          "output_type": "stream",
          "text": [
            "t\n",
            "e\n",
            "x\n",
            "t\n",
            "o\n"
          ]
        }
      ],
      "source": [
        "for i in 'texto':\n",
        "  print(i)"
      ]
    },
    {
      "cell_type": "code",
      "execution_count": 63,
      "metadata": {
        "colab": {
          "base_uri": "https://localhost:8080/",
          "height": 159
        },
        "id": "d38jj-7l1OHk",
        "outputId": "7c4cf34d-37f0-4f26-d335-c06bee8a29cf"
      },
      "outputs": [
        {
          "ename": "TypeError",
          "evalue": "'int' object is not iterable",
          "output_type": "error",
          "traceback": [
            "\u001b[0;31m---------------------------------------------------------------------------\u001b[0m",
            "\u001b[0;31mTypeError\u001b[0m                                 Traceback (most recent call last)",
            "\u001b[0;32m<ipython-input-63-87a611ea3f2a>\u001b[0m in \u001b[0;36m<cell line: 1>\u001b[0;34m()\u001b[0m\n\u001b[0;32m----> 1\u001b[0;31m \u001b[0;32mfor\u001b[0m \u001b[0mi\u001b[0m \u001b[0;32min\u001b[0m \u001b[0;36m594095403\u001b[0m\u001b[0;34m:\u001b[0m\u001b[0;34m\u001b[0m\u001b[0;34m\u001b[0m\u001b[0m\n\u001b[0m\u001b[1;32m      2\u001b[0m   \u001b[0mprint\u001b[0m\u001b[0;34m(\u001b[0m\u001b[0mi\u001b[0m\u001b[0;34m)\u001b[0m\u001b[0;34m\u001b[0m\u001b[0;34m\u001b[0m\u001b[0m\n",
            "\u001b[0;31mTypeError\u001b[0m: 'int' object is not iterable"
          ]
        }
      ],
      "source": [
        "for i in 594095403:\n",
        "  print(i)"
      ]
    },
    {
      "cell_type": "code",
      "execution_count": 64,
      "metadata": {
        "colab": {
          "base_uri": "https://localhost:8080/"
        },
        "id": "HvTDTqj21Z9j",
        "outputId": "0418b8d1-68d9-42d8-bb36-c65c570818bb"
      },
      "outputs": [
        {
          "data": {
            "text/plain": [
              "range(0, 5)"
            ]
          },
          "execution_count": 64,
          "metadata": {},
          "output_type": "execute_result"
        }
      ],
      "source": [
        "range(0, 5)"
      ]
    },
    {
      "cell_type": "code",
      "execution_count": 65,
      "metadata": {
        "id": "56ve4z_91iq6"
      },
      "outputs": [],
      "source": [
        "n = 4738279"
      ]
    },
    {
      "cell_type": "code",
      "execution_count": 66,
      "metadata": {
        "colab": {
          "base_uri": "https://localhost:8080/",
          "height": 141
        },
        "id": "xgcGJ23Z1vwH",
        "outputId": "40890bdd-4aa4-481f-9c55-f39783716585"
      },
      "outputs": [
        {
          "ename": "TypeError",
          "evalue": "object of type 'int' has no len()",
          "output_type": "error",
          "traceback": [
            "\u001b[0;31m---------------------------------------------------------------------------\u001b[0m",
            "\u001b[0;31mTypeError\u001b[0m                                 Traceback (most recent call last)",
            "\u001b[0;32m<ipython-input-66-efcb9d8dcfe2>\u001b[0m in \u001b[0;36m<cell line: 1>\u001b[0;34m()\u001b[0m\n\u001b[0;32m----> 1\u001b[0;31m \u001b[0mlen\u001b[0m\u001b[0;34m(\u001b[0m\u001b[0mn\u001b[0m\u001b[0;34m)\u001b[0m\u001b[0;34m\u001b[0m\u001b[0;34m\u001b[0m\u001b[0m\n\u001b[0m",
            "\u001b[0;31mTypeError\u001b[0m: object of type 'int' has no len()"
          ]
        }
      ],
      "source": [
        "len(n)"
      ]
    },
    {
      "cell_type": "code",
      "execution_count": 67,
      "metadata": {
        "colab": {
          "base_uri": "https://localhost:8080/",
          "height": 159
        },
        "id": "HjQWUMcC1k2t",
        "outputId": "3bf77846-08c5-4420-e6e9-c1dae7f00fdd"
      },
      "outputs": [
        {
          "ename": "TypeError",
          "evalue": "object of type 'int' has no len()",
          "output_type": "error",
          "traceback": [
            "\u001b[0;31m---------------------------------------------------------------------------\u001b[0m",
            "\u001b[0;31mTypeError\u001b[0m                                 Traceback (most recent call last)",
            "\u001b[0;32m<ipython-input-67-df98d81ee1fb>\u001b[0m in \u001b[0;36m<cell line: 1>\u001b[0;34m()\u001b[0m\n\u001b[0;32m----> 1\u001b[0;31m \u001b[0;32mfor\u001b[0m \u001b[0mi\u001b[0m \u001b[0;32min\u001b[0m \u001b[0mrange\u001b[0m\u001b[0;34m(\u001b[0m\u001b[0mlen\u001b[0m\u001b[0;34m(\u001b[0m\u001b[0mn\u001b[0m\u001b[0;34m)\u001b[0m\u001b[0;34m)\u001b[0m\u001b[0;34m:\u001b[0m\u001b[0;34m\u001b[0m\u001b[0;34m\u001b[0m\u001b[0m\n\u001b[0m\u001b[1;32m      2\u001b[0m  \u001b[0mprint\u001b[0m\u001b[0;34m(\u001b[0m\u001b[0mi\u001b[0m\u001b[0;34m)\u001b[0m\u001b[0;34m\u001b[0m\u001b[0;34m\u001b[0m\u001b[0m\n",
            "\u001b[0;31mTypeError\u001b[0m: object of type 'int' has no len()"
          ]
        }
      ],
      "source": [
        "for i in range(len(n)):\n",
        " print(i)"
      ]
    },
    {
      "cell_type": "markdown",
      "metadata": {
        "id": "JkoSrTe0mogr"
      },
      "source": [
        "Unpacking"
      ]
    },
    {
      "cell_type": "code",
      "execution_count": 68,
      "metadata": {
        "id": "QrHs5jfx177m"
      },
      "outputs": [],
      "source": [
        "x = (1, 2 ,3)"
      ]
    },
    {
      "cell_type": "code",
      "execution_count": 69,
      "metadata": {
        "id": "yuofegrb2Ed6"
      },
      "outputs": [],
      "source": [
        "y = [1,2,3]"
      ]
    },
    {
      "cell_type": "code",
      "execution_count": 70,
      "metadata": {
        "colab": {
          "base_uri": "https://localhost:8080/"
        },
        "id": "WVeiAAyW1-y2",
        "outputId": "2c32e4f1-6da6-4150-cf9a-e2a36e60b738"
      },
      "outputs": [
        {
          "data": {
            "text/plain": [
              "1"
            ]
          },
          "execution_count": 70,
          "metadata": {},
          "output_type": "execute_result"
        }
      ],
      "source": [
        "x[0]"
      ]
    },
    {
      "cell_type": "code",
      "execution_count": 71,
      "metadata": {
        "colab": {
          "base_uri": "https://localhost:8080/"
        },
        "id": "7t-7rLvl2Ap4",
        "outputId": "de1c8a3f-9d18-43b5-b62f-756618f8b2f6"
      },
      "outputs": [
        {
          "data": {
            "text/plain": [
              "3"
            ]
          },
          "execution_count": 71,
          "metadata": {},
          "output_type": "execute_result"
        }
      ],
      "source": [
        "x[2]"
      ]
    },
    {
      "cell_type": "code",
      "execution_count": 72,
      "metadata": {
        "id": "JRR72BWJjL7D"
      },
      "outputs": [],
      "source": [
        "p = (4, 5)\n",
        "x, y = p"
      ]
    },
    {
      "cell_type": "code",
      "execution_count": 73,
      "metadata": {
        "colab": {
          "base_uri": "https://localhost:8080/"
        },
        "id": "5m0yO2FAjtXo",
        "outputId": "97792eab-ba0e-445b-8148-8664d7bf507b"
      },
      "outputs": [
        {
          "data": {
            "text/plain": [
              "4"
            ]
          },
          "execution_count": 73,
          "metadata": {},
          "output_type": "execute_result"
        }
      ],
      "source": [
        "x"
      ]
    },
    {
      "cell_type": "code",
      "execution_count": 74,
      "metadata": {
        "colab": {
          "base_uri": "https://localhost:8080/"
        },
        "id": "wImZgTpPjvxZ",
        "outputId": "85ae2153-be34-4d74-a246-75dc8b068550"
      },
      "outputs": [
        {
          "data": {
            "text/plain": [
              "5"
            ]
          },
          "execution_count": 74,
          "metadata": {},
          "output_type": "execute_result"
        }
      ],
      "source": [
        "y"
      ]
    },
    {
      "cell_type": "code",
      "execution_count": 76,
      "metadata": {
        "id": "VLiF_3eGj1bX"
      },
      "outputs": [],
      "source": [
        "data = ['ACME', 50, 91.1, (2012, 12, 21)]\n",
        "name, shares, price, date = data"
      ]
    },
    {
      "cell_type": "code",
      "execution_count": 77,
      "metadata": {
        "colab": {
          "base_uri": "https://localhost:8080/",
          "height": 35
        },
        "id": "OHPl0s-UkJQF",
        "outputId": "4ff119e4-fe90-4129-e65c-066052ef5782"
      },
      "outputs": [
        {
          "data": {
            "application/vnd.google.colaboratory.intrinsic+json": {
              "type": "string"
            },
            "text/plain": [
              "'ACME'"
            ]
          },
          "execution_count": 77,
          "metadata": {},
          "output_type": "execute_result"
        }
      ],
      "source": [
        "name"
      ]
    },
    {
      "cell_type": "code",
      "execution_count": 79,
      "metadata": {
        "colab": {
          "base_uri": "https://localhost:8080/"
        },
        "id": "6GrRqqiAkLSs",
        "outputId": "23949ef1-0ab0-453d-f3df-3322e9a562f4"
      },
      "outputs": [
        {
          "data": {
            "text/plain": [
              "(2012, 12, 21)"
            ]
          },
          "execution_count": 79,
          "metadata": {},
          "output_type": "execute_result"
        }
      ],
      "source": [
        "date"
      ]
    },
    {
      "cell_type": "code",
      "execution_count": 80,
      "metadata": {
        "id": "0UH2v8BXkNzk"
      },
      "outputs": [],
      "source": [
        "name, shares, price, (year, mon, day) = data"
      ]
    },
    {
      "cell_type": "code",
      "execution_count": 81,
      "metadata": {
        "colab": {
          "base_uri": "https://localhost:8080/",
          "height": 35
        },
        "id": "PoTycEcIkSQl",
        "outputId": "d0799001-f3f9-4e0b-d62c-bab729c23c47"
      },
      "outputs": [
        {
          "data": {
            "application/vnd.google.colaboratory.intrinsic+json": {
              "type": "string"
            },
            "text/plain": [
              "'ACME'"
            ]
          },
          "execution_count": 81,
          "metadata": {},
          "output_type": "execute_result"
        }
      ],
      "source": [
        "name"
      ]
    },
    {
      "cell_type": "code",
      "execution_count": 82,
      "metadata": {
        "colab": {
          "base_uri": "https://localhost:8080/"
        },
        "id": "M1vNDEtlkU4e",
        "outputId": "be5192db-1769-47b5-f782-00f49244cd7d"
      },
      "outputs": [
        {
          "data": {
            "text/plain": [
              "2012"
            ]
          },
          "execution_count": 82,
          "metadata": {},
          "output_type": "execute_result"
        }
      ],
      "source": [
        "year"
      ]
    },
    {
      "cell_type": "code",
      "execution_count": 83,
      "metadata": {
        "colab": {
          "base_uri": "https://localhost:8080/"
        },
        "id": "5e2FqbPHkWqF",
        "outputId": "8f9463fb-accb-4dab-92c2-9a1040b97293"
      },
      "outputs": [
        {
          "data": {
            "text/plain": [
              "12"
            ]
          },
          "execution_count": 83,
          "metadata": {},
          "output_type": "execute_result"
        }
      ],
      "source": [
        "mon"
      ]
    },
    {
      "cell_type": "code",
      "execution_count": 84,
      "metadata": {
        "colab": {
          "base_uri": "https://localhost:8080/"
        },
        "id": "s7xJ16prkZaU",
        "outputId": "f7a22ec3-a01b-4ed8-90d5-4447dea652f1"
      },
      "outputs": [
        {
          "data": {
            "text/plain": [
              "21"
            ]
          },
          "execution_count": 84,
          "metadata": {},
          "output_type": "execute_result"
        }
      ],
      "source": [
        "day"
      ]
    },
    {
      "cell_type": "code",
      "execution_count": 85,
      "metadata": {
        "colab": {
          "base_uri": "https://localhost:8080/",
          "height": 159
        },
        "id": "legDu-g9kbyC",
        "outputId": "0f7b9c1d-e753-4677-a1d4-ced5b28258d7"
      },
      "outputs": [
        {
          "ename": "ValueError",
          "evalue": "not enough values to unpack (expected 3, got 2)",
          "output_type": "error",
          "traceback": [
            "\u001b[0;31m---------------------------------------------------------------------------\u001b[0m",
            "\u001b[0;31mValueError\u001b[0m                                Traceback (most recent call last)",
            "\u001b[0;32m<ipython-input-85-16f8f27ebf6e>\u001b[0m in \u001b[0;36m<cell line: 2>\u001b[0;34m()\u001b[0m\n\u001b[1;32m      1\u001b[0m \u001b[0mp\u001b[0m \u001b[0;34m=\u001b[0m \u001b[0;34m(\u001b[0m\u001b[0;36m4\u001b[0m\u001b[0;34m,\u001b[0m \u001b[0;36m5\u001b[0m\u001b[0;34m)\u001b[0m\u001b[0;34m\u001b[0m\u001b[0;34m\u001b[0m\u001b[0m\n\u001b[0;32m----> 2\u001b[0;31m \u001b[0mx\u001b[0m\u001b[0;34m,\u001b[0m \u001b[0my\u001b[0m\u001b[0;34m,\u001b[0m \u001b[0mz\u001b[0m \u001b[0;34m=\u001b[0m \u001b[0mp\u001b[0m\u001b[0;34m\u001b[0m\u001b[0;34m\u001b[0m\u001b[0m\n\u001b[0m",
            "\u001b[0;31mValueError\u001b[0m: not enough values to unpack (expected 3, got 2)"
          ]
        }
      ],
      "source": [
        "p = (4, 5)\n",
        "x, y, z = p"
      ]
    },
    {
      "cell_type": "markdown",
      "metadata": {
        "id": "3IhnAz3Wpeb3"
      },
      "source": [
        "Funciones:"
      ]
    },
    {
      "cell_type": "code",
      "execution_count": 86,
      "metadata": {
        "id": "2A4nZfAvpbT6"
      },
      "outputs": [],
      "source": [
        "def avg(first, *rest):\n",
        "    return (first + sum(rest)) / (1 + len(rest))"
      ]
    },
    {
      "cell_type": "markdown",
      "metadata": {
        "id": "NZYkYoinpiyU"
      },
      "source": [
        "avg(1, 2)"
      ]
    },
    {
      "cell_type": "code",
      "execution_count": 87,
      "metadata": {
        "id": "kfJ3pKQ0qCBe"
      },
      "outputs": [],
      "source": [
        "def spam(a, b=42):\n",
        "    print(a, b)"
      ]
    },
    {
      "cell_type": "code",
      "execution_count": null,
      "metadata": {
        "id": "Uac50qZQqGMd"
      },
      "outputs": [],
      "source": [
        "spam(1)"
      ]
    },
    {
      "cell_type": "code",
      "execution_count": 89,
      "metadata": {
        "colab": {
          "base_uri": "https://localhost:8080/"
        },
        "id": "OoTNvSwiqIs8",
        "outputId": "e027ea92-88bf-42d7-8781-0bf607aa9d41"
      },
      "outputs": [
        {
          "name": "stdout",
          "output_type": "stream",
          "text": [
            "1 2\n"
          ]
        }
      ],
      "source": [
        "spam(1, 2)"
      ]
    },
    {
      "cell_type": "markdown",
      "metadata": {
        "id": "MS_CFoQ2qQiw"
      },
      "source": [
        "Clases"
      ]
    },
    {
      "cell_type": "code",
      "execution_count": 90,
      "metadata": {
        "id": "_KbMgUPJqOLk"
      },
      "outputs": [],
      "source": [
        "class Pair:\n",
        "    def __init__(self, x, y):\n",
        "        self.x = x\n",
        "        self.y = y\n",
        "\n",
        "    def __repr__(self):\n",
        "        return 'Pair({0.x!r}, {0.y!r})'.format(self)\n",
        "\n",
        "    def __str__(self):\n",
        "        return '({0.x!s}, {0.y!s})'.format(self)\n"
      ]
    },
    {
      "cell_type": "code",
      "execution_count": 91,
      "metadata": {
        "colab": {
          "base_uri": "https://localhost:8080/"
        },
        "id": "BLrIiV6FqWlY",
        "outputId": "e4f60c4b-a4ce-4efb-ff71-9d9418e013bf"
      },
      "outputs": [
        {
          "data": {
            "text/plain": [
              "Pair(3, 4)"
            ]
          },
          "execution_count": 91,
          "metadata": {},
          "output_type": "execute_result"
        }
      ],
      "source": [
        "p = Pair(3, 4)\n",
        "p  # __repr__() output"
      ]
    },
    {
      "cell_type": "code",
      "execution_count": 92,
      "metadata": {
        "colab": {
          "base_uri": "https://localhost:8080/"
        },
        "id": "JRg3-5wkqaTI",
        "outputId": "43f794fe-25c5-4092-cede-41f97fe5fb7e"
      },
      "outputs": [
        {
          "name": "stdout",
          "output_type": "stream",
          "text": [
            "(3, 4)\n"
          ]
        }
      ],
      "source": [
        "print(p)"
      ]
    },
    {
      "cell_type": "markdown",
      "metadata": {
        "id": "n_FWjEgSm7VZ"
      },
      "source": [
        "Dataset"
      ]
    },
    {
      "cell_type": "code",
      "execution_count": 93,
      "metadata": {
        "id": "Bs-9lOt5iQue"
      },
      "outputs": [],
      "source": [
        "import numpy as np\n",
        "import pandas as pd\n",
        "import matplotlib.pyplot as plt"
      ]
    },
    {
      "cell_type": "code",
      "execution_count": 94,
      "metadata": {
        "id": "iY_pTUisiTev"
      },
      "outputs": [],
      "source": [
        "url = (\"https://raw.githubusercontent.com/\"\n",
        "       \"ipython-books/cookbook-2nd-data/\"\n",
        "       \"master/bikes.csv\")"
      ]
    },
    {
      "cell_type": "code",
      "execution_count": 95,
      "metadata": {
        "id": "nCg0-T4RiWfv"
      },
      "outputs": [],
      "source": [
        "df = pd.read_csv(url, index_col='Date',\n",
        "                 parse_dates=True, dayfirst=True)"
      ]
    },
    {
      "cell_type": "code",
      "execution_count": 96,
      "metadata": {
        "colab": {
          "base_uri": "https://localhost:8080/",
          "height": 238
        },
        "id": "NsxLU7Y2iam-",
        "outputId": "69d9667c-f881-4f2d-def5-7466e80db29a"
      },
      "outputs": [
        {
          "data": {
            "application/vnd.google.colaboratory.intrinsic+json": {
              "repr_error": "'str' object has no attribute 'empty'",
              "type": "dataframe",
              "variable_name": "df"
            },
            "text/html": [
              "\n",
              "  <div id=\"df-acad6d59-7af5-44a6-9d1f-d1d242bdeea1\" class=\"colab-df-container\">\n",
              "    <div>\n",
              "<style scoped>\n",
              "    .dataframe tbody tr th:only-of-type {\n",
              "        vertical-align: middle;\n",
              "    }\n",
              "\n",
              "    .dataframe tbody tr th {\n",
              "        vertical-align: top;\n",
              "    }\n",
              "\n",
              "    .dataframe thead th {\n",
              "        text-align: right;\n",
              "    }\n",
              "</style>\n",
              "<table border=\"1\" class=\"dataframe\">\n",
              "  <thead>\n",
              "    <tr style=\"text-align: right;\">\n",
              "      <th></th>\n",
              "      <th>Unnamed: 1</th>\n",
              "      <th>Berri1</th>\n",
              "      <th>CSC</th>\n",
              "      <th>Mais1</th>\n",
              "      <th>Mais2</th>\n",
              "      <th>Parc</th>\n",
              "      <th>PierDup</th>\n",
              "      <th>Rachel1</th>\n",
              "      <th>Totem_Laurier</th>\n",
              "    </tr>\n",
              "    <tr>\n",
              "      <th>Date</th>\n",
              "      <th></th>\n",
              "      <th></th>\n",
              "      <th></th>\n",
              "      <th></th>\n",
              "      <th></th>\n",
              "      <th></th>\n",
              "      <th></th>\n",
              "      <th></th>\n",
              "      <th></th>\n",
              "    </tr>\n",
              "  </thead>\n",
              "  <tbody>\n",
              "    <tr>\n",
              "      <th>2013-01-01</th>\n",
              "      <td>00:00</td>\n",
              "      <td>0</td>\n",
              "      <td>0</td>\n",
              "      <td>1</td>\n",
              "      <td>0</td>\n",
              "      <td>6</td>\n",
              "      <td>0</td>\n",
              "      <td>1</td>\n",
              "      <td>0</td>\n",
              "    </tr>\n",
              "    <tr>\n",
              "      <th>2013-01-02</th>\n",
              "      <td>00:00</td>\n",
              "      <td>69</td>\n",
              "      <td>0</td>\n",
              "      <td>13</td>\n",
              "      <td>0</td>\n",
              "      <td>18</td>\n",
              "      <td>0</td>\n",
              "      <td>2</td>\n",
              "      <td>0</td>\n",
              "    </tr>\n",
              "    <tr>\n",
              "      <th>2013-01-03</th>\n",
              "      <td>00:00</td>\n",
              "      <td>69</td>\n",
              "      <td>2</td>\n",
              "      <td>21</td>\n",
              "      <td>6</td>\n",
              "      <td>22</td>\n",
              "      <td>1</td>\n",
              "      <td>0</td>\n",
              "      <td>0</td>\n",
              "    </tr>\n",
              "    <tr>\n",
              "      <th>2013-01-04</th>\n",
              "      <td>00:00</td>\n",
              "      <td>80</td>\n",
              "      <td>0</td>\n",
              "      <td>22</td>\n",
              "      <td>4</td>\n",
              "      <td>16</td>\n",
              "      <td>0</td>\n",
              "      <td>125</td>\n",
              "      <td>0</td>\n",
              "    </tr>\n",
              "    <tr>\n",
              "      <th>2013-01-05</th>\n",
              "      <td>00:00</td>\n",
              "      <td>52</td>\n",
              "      <td>4</td>\n",
              "      <td>19</td>\n",
              "      <td>3</td>\n",
              "      <td>12</td>\n",
              "      <td>0</td>\n",
              "      <td>97</td>\n",
              "      <td>0</td>\n",
              "    </tr>\n",
              "  </tbody>\n",
              "</table>\n",
              "</div>\n",
              "    <div class=\"colab-df-buttons\">\n",
              "\n",
              "  <div class=\"colab-df-container\">\n",
              "    <button class=\"colab-df-convert\" onclick=\"convertToInteractive('df-acad6d59-7af5-44a6-9d1f-d1d242bdeea1')\"\n",
              "            title=\"Convert this dataframe to an interactive table.\"\n",
              "            style=\"display:none;\">\n",
              "\n",
              "  <svg xmlns=\"http://www.w3.org/2000/svg\" height=\"24px\" viewBox=\"0 -960 960 960\">\n",
              "    <path d=\"M120-120v-720h720v720H120Zm60-500h600v-160H180v160Zm220 220h160v-160H400v160Zm0 220h160v-160H400v160ZM180-400h160v-160H180v160Zm440 0h160v-160H620v160ZM180-180h160v-160H180v160Zm440 0h160v-160H620v160Z\"/>\n",
              "  </svg>\n",
              "    </button>\n",
              "\n",
              "  <style>\n",
              "    .colab-df-container {\n",
              "      display:flex;\n",
              "      gap: 12px;\n",
              "    }\n",
              "\n",
              "    .colab-df-convert {\n",
              "      background-color: #E8F0FE;\n",
              "      border: none;\n",
              "      border-radius: 50%;\n",
              "      cursor: pointer;\n",
              "      display: none;\n",
              "      fill: #1967D2;\n",
              "      height: 32px;\n",
              "      padding: 0 0 0 0;\n",
              "      width: 32px;\n",
              "    }\n",
              "\n",
              "    .colab-df-convert:hover {\n",
              "      background-color: #E2EBFA;\n",
              "      box-shadow: 0px 1px 2px rgba(60, 64, 67, 0.3), 0px 1px 3px 1px rgba(60, 64, 67, 0.15);\n",
              "      fill: #174EA6;\n",
              "    }\n",
              "\n",
              "    .colab-df-buttons div {\n",
              "      margin-bottom: 4px;\n",
              "    }\n",
              "\n",
              "    [theme=dark] .colab-df-convert {\n",
              "      background-color: #3B4455;\n",
              "      fill: #D2E3FC;\n",
              "    }\n",
              "\n",
              "    [theme=dark] .colab-df-convert:hover {\n",
              "      background-color: #434B5C;\n",
              "      box-shadow: 0px 1px 3px 1px rgba(0, 0, 0, 0.15);\n",
              "      filter: drop-shadow(0px 1px 2px rgba(0, 0, 0, 0.3));\n",
              "      fill: #FFFFFF;\n",
              "    }\n",
              "  </style>\n",
              "\n",
              "    <script>\n",
              "      const buttonEl =\n",
              "        document.querySelector('#df-acad6d59-7af5-44a6-9d1f-d1d242bdeea1 button.colab-df-convert');\n",
              "      buttonEl.style.display =\n",
              "        google.colab.kernel.accessAllowed ? 'block' : 'none';\n",
              "\n",
              "      async function convertToInteractive(key) {\n",
              "        const element = document.querySelector('#df-acad6d59-7af5-44a6-9d1f-d1d242bdeea1');\n",
              "        const dataTable =\n",
              "          await google.colab.kernel.invokeFunction('convertToInteractive',\n",
              "                                                    [key], {});\n",
              "        if (!dataTable) return;\n",
              "\n",
              "        const docLinkHtml = 'Like what you see? Visit the ' +\n",
              "          '<a target=\"_blank\" href=https://colab.research.google.com/notebooks/data_table.ipynb>data table notebook</a>'\n",
              "          + ' to learn more about interactive tables.';\n",
              "        element.innerHTML = '';\n",
              "        dataTable['output_type'] = 'display_data';\n",
              "        await google.colab.output.renderOutput(dataTable, element);\n",
              "        const docLink = document.createElement('div');\n",
              "        docLink.innerHTML = docLinkHtml;\n",
              "        element.appendChild(docLink);\n",
              "      }\n",
              "    </script>\n",
              "  </div>\n",
              "\n",
              "\n",
              "<div id=\"df-d41a33f9-2b5c-42e4-a191-9aaa649b729a\">\n",
              "  <button class=\"colab-df-quickchart\" onclick=\"quickchart('df-d41a33f9-2b5c-42e4-a191-9aaa649b729a')\"\n",
              "            title=\"Suggest charts\"\n",
              "            style=\"display:none;\">\n",
              "\n",
              "<svg xmlns=\"http://www.w3.org/2000/svg\" height=\"24px\"viewBox=\"0 0 24 24\"\n",
              "     width=\"24px\">\n",
              "    <g>\n",
              "        <path d=\"M19 3H5c-1.1 0-2 .9-2 2v14c0 1.1.9 2 2 2h14c1.1 0 2-.9 2-2V5c0-1.1-.9-2-2-2zM9 17H7v-7h2v7zm4 0h-2V7h2v10zm4 0h-2v-4h2v4z\"/>\n",
              "    </g>\n",
              "</svg>\n",
              "  </button>\n",
              "\n",
              "<style>\n",
              "  .colab-df-quickchart {\n",
              "      --bg-color: #E8F0FE;\n",
              "      --fill-color: #1967D2;\n",
              "      --hover-bg-color: #E2EBFA;\n",
              "      --hover-fill-color: #174EA6;\n",
              "      --disabled-fill-color: #AAA;\n",
              "      --disabled-bg-color: #DDD;\n",
              "  }\n",
              "\n",
              "  [theme=dark] .colab-df-quickchart {\n",
              "      --bg-color: #3B4455;\n",
              "      --fill-color: #D2E3FC;\n",
              "      --hover-bg-color: #434B5C;\n",
              "      --hover-fill-color: #FFFFFF;\n",
              "      --disabled-bg-color: #3B4455;\n",
              "      --disabled-fill-color: #666;\n",
              "  }\n",
              "\n",
              "  .colab-df-quickchart {\n",
              "    background-color: var(--bg-color);\n",
              "    border: none;\n",
              "    border-radius: 50%;\n",
              "    cursor: pointer;\n",
              "    display: none;\n",
              "    fill: var(--fill-color);\n",
              "    height: 32px;\n",
              "    padding: 0;\n",
              "    width: 32px;\n",
              "  }\n",
              "\n",
              "  .colab-df-quickchart:hover {\n",
              "    background-color: var(--hover-bg-color);\n",
              "    box-shadow: 0 1px 2px rgba(60, 64, 67, 0.3), 0 1px 3px 1px rgba(60, 64, 67, 0.15);\n",
              "    fill: var(--button-hover-fill-color);\n",
              "  }\n",
              "\n",
              "  .colab-df-quickchart-complete:disabled,\n",
              "  .colab-df-quickchart-complete:disabled:hover {\n",
              "    background-color: var(--disabled-bg-color);\n",
              "    fill: var(--disabled-fill-color);\n",
              "    box-shadow: none;\n",
              "  }\n",
              "\n",
              "  .colab-df-spinner {\n",
              "    border: 2px solid var(--fill-color);\n",
              "    border-color: transparent;\n",
              "    border-bottom-color: var(--fill-color);\n",
              "    animation:\n",
              "      spin 1s steps(1) infinite;\n",
              "  }\n",
              "\n",
              "  @keyframes spin {\n",
              "    0% {\n",
              "      border-color: transparent;\n",
              "      border-bottom-color: var(--fill-color);\n",
              "      border-left-color: var(--fill-color);\n",
              "    }\n",
              "    20% {\n",
              "      border-color: transparent;\n",
              "      border-left-color: var(--fill-color);\n",
              "      border-top-color: var(--fill-color);\n",
              "    }\n",
              "    30% {\n",
              "      border-color: transparent;\n",
              "      border-left-color: var(--fill-color);\n",
              "      border-top-color: var(--fill-color);\n",
              "      border-right-color: var(--fill-color);\n",
              "    }\n",
              "    40% {\n",
              "      border-color: transparent;\n",
              "      border-right-color: var(--fill-color);\n",
              "      border-top-color: var(--fill-color);\n",
              "    }\n",
              "    60% {\n",
              "      border-color: transparent;\n",
              "      border-right-color: var(--fill-color);\n",
              "    }\n",
              "    80% {\n",
              "      border-color: transparent;\n",
              "      border-right-color: var(--fill-color);\n",
              "      border-bottom-color: var(--fill-color);\n",
              "    }\n",
              "    90% {\n",
              "      border-color: transparent;\n",
              "      border-bottom-color: var(--fill-color);\n",
              "    }\n",
              "  }\n",
              "</style>\n",
              "\n",
              "  <script>\n",
              "    async function quickchart(key) {\n",
              "      const quickchartButtonEl =\n",
              "        document.querySelector('#' + key + ' button');\n",
              "      quickchartButtonEl.disabled = true;  // To prevent multiple clicks.\n",
              "      quickchartButtonEl.classList.add('colab-df-spinner');\n",
              "      try {\n",
              "        const charts = await google.colab.kernel.invokeFunction(\n",
              "            'suggestCharts', [key], {});\n",
              "      } catch (error) {\n",
              "        console.error('Error during call to suggestCharts:', error);\n",
              "      }\n",
              "      quickchartButtonEl.classList.remove('colab-df-spinner');\n",
              "      quickchartButtonEl.classList.add('colab-df-quickchart-complete');\n",
              "    }\n",
              "    (() => {\n",
              "      let quickchartButtonEl =\n",
              "        document.querySelector('#df-d41a33f9-2b5c-42e4-a191-9aaa649b729a button');\n",
              "      quickchartButtonEl.style.display =\n",
              "        google.colab.kernel.accessAllowed ? 'block' : 'none';\n",
              "    })();\n",
              "  </script>\n",
              "</div>\n",
              "\n",
              "    </div>\n",
              "  </div>\n"
            ],
            "text/plain": [
              "           Unnamed: 1  Berri1  CSC  Mais1  Mais2  Parc  PierDup  Rachel1  \\\n",
              "Date                                                                       \n",
              "2013-01-01      00:00       0    0      1      0     6        0        1   \n",
              "2013-01-02      00:00      69    0     13      0    18        0        2   \n",
              "2013-01-03      00:00      69    2     21      6    22        1        0   \n",
              "2013-01-04      00:00      80    0     22      4    16        0      125   \n",
              "2013-01-05      00:00      52    4     19      3    12        0       97   \n",
              "\n",
              "            Totem_Laurier  \n",
              "Date                       \n",
              "2013-01-01              0  \n",
              "2013-01-02              0  \n",
              "2013-01-03              0  \n",
              "2013-01-04              0  \n",
              "2013-01-05              0  "
            ]
          },
          "execution_count": 96,
          "metadata": {},
          "output_type": "execute_result"
        }
      ],
      "source": [
        "df.head()"
      ]
    },
    {
      "cell_type": "code",
      "execution_count": 97,
      "metadata": {
        "colab": {
          "base_uri": "https://localhost:8080/",
          "height": 575
        },
        "id": "cz_XcvYVidwf",
        "outputId": "7824ac07-cec8-450d-aad9-d542f2f88346"
      },
      "outputs": [
        {
          "data": {
            "text/plain": [
              "<Axes: xlabel='Date'>"
            ]
          },
          "execution_count": 97,
          "metadata": {},
          "output_type": "execute_result"
        },
        {
          "data": {
            "image/png": "[encoded data removed]",
            "text/plain": [
              "<Figure size 1000x600 with 1 Axes>"
            ]
          },
          "metadata": {},
          "output_type": "display_data"
        }
      ],
      "source": [
        "df[['Berri1', 'PierDup']].plot(figsize=(10, 6),\n",
        "                               style=['-', '--'],\n",
        "                               lw=2)"
      ]
    },
    {
      "cell_type": "code",
      "execution_count": 98,
      "metadata": {
        "colab": {
          "base_uri": "https://localhost:8080/"
        },
        "id": "GRfCBvnQihOq",
        "outputId": "6f90a3cf-7c54-4436-8f0a-a9050f856e83"
      },
      "outputs": [
        {
          "data": {
            "text/plain": [
              "DatetimeIndex(['2013-01-01', '2013-01-02', '2013-01-03', '2013-01-04',\n",
              "               '2013-01-05', '2013-01-06', '2013-01-07', '2013-01-08',\n",
              "               '2013-01-09', '2013-01-10',\n",
              "               ...\n",
              "               '2013-09-09', '2013-09-10', '2013-09-11', '2013-09-12',\n",
              "               '2013-09-13', '2013-09-14', '2013-09-15', '2013-09-16',\n",
              "               '2013-09-17', '2013-09-18'],\n",
              "              dtype='datetime64[ns]', name='Date', length=261, freq=None)"
            ]
          },
          "execution_count": 98,
          "metadata": {},
          "output_type": "execute_result"
        }
      ],
      "source": [
        "df.index"
      ]
    },
    {
      "cell_type": "code",
      "execution_count": 99,
      "metadata": {
        "colab": {
          "base_uri": "https://localhost:8080/"
        },
        "id": "e__k-f39ilhh",
        "outputId": "950f0fe1-36a2-41ef-b620-27caa884fe9a"
      },
      "outputs": [
        {
          "name": "stderr",
          "output_type": "stream",
          "text": [
            "<ipython-input-99-6b843cab4f9a>:1: FutureWarning: The default value of numeric_only in DataFrameGroupBy.sum is deprecated. In a future version, numeric_only will default to False. Either specify numeric_only or select only columns which should be valid for the function.\n",
            "  df_week = df.groupby(df.index.weekday).sum()\n"
          ]
        }
      ],
      "source": [
        "df_week = df.groupby(df.index.weekday).sum()"
      ]
    },
    {
      "cell_type": "code",
      "execution_count": 100,
      "metadata": {
        "colab": {
          "base_uri": "https://localhost:8080/",
          "height": 300
        },
        "id": "ePa2_xuLi3zM",
        "outputId": "e56100ef-236f-4379-a7db-69723e409eb3"
      },
      "outputs": [
        {
          "data": {
            "application/vnd.google.colaboratory.intrinsic+json": {
              "summary": "{\n  \"name\": \"df_week\",\n  \"rows\": 7,\n  \"fields\": [\n    {\n      \"column\": \"Berri1\",\n      \"properties\": {\n        \"dtype\": \"number\",\n        \"std\": 19180,\n        \"min\": 74873,\n        \"max\": 120434,\n        \"num_unique_values\": 7,\n        \"samples\": [\n          106826,\n          117244,\n          75754\n        ],\n        \"semantic_type\": \"\",\n        \"description\": \"\"\n      }\n    },\n    {\n      \"column\": \"CSC\",\n      \"properties\": {\n        \"dtype\": \"number\",\n        \"std\": 12708,\n        \"min\": 27226,\n        \"max\": 59604,\n        \"num_unique_values\": 7,\n        \"samples\": [\n          51646,\n          54656,\n          27226\n        ],\n        \"semantic_type\": \"\",\n        \"description\": \"\"\n      }\n    },\n    {\n      \"column\": \"Mais1\",\n      \"properties\": {\n        \"dtype\": \"number\",\n        \"std\": 15634,\n        \"min\": 40812,\n        \"max\": 79033,\n        \"num_unique_values\": 7,\n        \"samples\": [\n          68087,\n          76974,\n          45947\n        ],\n        \"semantic_type\": \"\",\n        \"description\": \"\"\n      }\n    },\n    {\n      \"column\": \"Mais2\",\n      \"properties\": {\n        \"dtype\": \"number\",\n        \"std\": 29757,\n        \"min\": 75746,\n        \"max\": 145860,\n        \"num_unique_values\": 7,\n        \"samples\": [\n          129982,\n          141217,\n          79743\n        ],\n        \"semantic_type\": \"\",\n        \"description\": \"\"\n      }\n    },\n    {\n      \"column\": \"Parc\",\n      \"properties\": {\n        \"dtype\": \"number\",\n        \"std\": 18199,\n        \"min\": 35544,\n        \"max\": 80437,\n        \"num_unique_values\": 7,\n        \"samples\": [\n          69767,\n          74299,\n          35544\n        ],\n        \"semantic_type\": \"\",\n        \"description\": \"\"\n      }\n    },\n    {\n      \"column\": \"PierDup\",\n      \"properties\": {\n        \"dtype\": \"number\",\n        \"std\": 6009,\n        \"min\": 36349,\n        \"max\": 53812,\n        \"num_unique_values\": 7,\n        \"samples\": [\n          44500,\n          40679,\n          46149\n        ],\n        \"semantic_type\": \"\",\n        \"description\": \"\"\n      }\n    },\n    {\n      \"column\": \"Rachel1\",\n      \"properties\": {\n        \"dtype\": \"number\",\n        \"std\": 11264,\n        \"min\": 97143,\n        \"max\": 125173,\n        \"num_unique_values\": 7,\n        \"samples\": [\n          119211,\n          123533,\n          97143\n        ],\n        \"semantic_type\": \"\",\n        \"description\": \"\"\n      }\n    },\n    {\n      \"column\": \"Totem_Laurier\",\n      \"properties\": {\n        \"dtype\": \"number\",\n        \"std\": 10060,\n        \"min\": 53798,\n        \"max\": 79501,\n        \"num_unique_values\": 7,\n        \"samples\": [\n          72883,\n          76559,\n          56438\n        ],\n        \"semantic_type\": \"\",\n        \"description\": \"\"\n      }\n    }\n  ]\n}",
              "type": "dataframe",
              "variable_name": "df_week"
            },
            "text/html": [
              "\n",
              "  <div id=\"df-aff1b89e-61a3-44da-9c26-dc3e522d411d\" class=\"colab-df-container\">\n",
              "    <div>\n",
              "<style scoped>\n",
              "    .dataframe tbody tr th:only-of-type {\n",
              "        vertical-align: middle;\n",
              "    }\n",
              "\n",
              "    .dataframe tbody tr th {\n",
              "        vertical-align: top;\n",
              "    }\n",
              "\n",
              "    .dataframe thead th {\n",
              "        text-align: right;\n",
              "    }\n",
              "</style>\n",
              "<table border=\"1\" class=\"dataframe\">\n",
              "  <thead>\n",
              "    <tr style=\"text-align: right;\">\n",
              "      <th></th>\n",
              "      <th>Berri1</th>\n",
              "      <th>CSC</th>\n",
              "      <th>Mais1</th>\n",
              "      <th>Mais2</th>\n",
              "      <th>Parc</th>\n",
              "      <th>PierDup</th>\n",
              "      <th>Rachel1</th>\n",
              "      <th>Totem_Laurier</th>\n",
              "    </tr>\n",
              "    <tr>\n",
              "      <th>Date</th>\n",
              "      <th></th>\n",
              "      <th></th>\n",
              "      <th></th>\n",
              "      <th></th>\n",
              "      <th></th>\n",
              "      <th></th>\n",
              "      <th></th>\n",
              "      <th></th>\n",
              "    </tr>\n",
              "  </thead>\n",
              "  <tbody>\n",
              "    <tr>\n",
              "      <th>0</th>\n",
              "      <td>106826</td>\n",
              "      <td>51646</td>\n",
              "      <td>68087</td>\n",
              "      <td>129982</td>\n",
              "      <td>69767</td>\n",
              "      <td>44500</td>\n",
              "      <td>119211</td>\n",
              "      <td>72883</td>\n",
              "    </tr>\n",
              "    <tr>\n",
              "      <th>1</th>\n",
              "      <td>117244</td>\n",
              "      <td>54656</td>\n",
              "      <td>76974</td>\n",
              "      <td>141217</td>\n",
              "      <td>74299</td>\n",
              "      <td>40679</td>\n",
              "      <td>123533</td>\n",
              "      <td>76559</td>\n",
              "    </tr>\n",
              "    <tr>\n",
              "      <th>2</th>\n",
              "      <td>120434</td>\n",
              "      <td>59604</td>\n",
              "      <td>79033</td>\n",
              "      <td>145860</td>\n",
              "      <td>80437</td>\n",
              "      <td>42564</td>\n",
              "      <td>125173</td>\n",
              "      <td>79501</td>\n",
              "    </tr>\n",
              "    <tr>\n",
              "      <th>3</th>\n",
              "      <td>115193</td>\n",
              "      <td>52340</td>\n",
              "      <td>76273</td>\n",
              "      <td>141424</td>\n",
              "      <td>73668</td>\n",
              "      <td>36349</td>\n",
              "      <td>120684</td>\n",
              "      <td>74540</td>\n",
              "    </tr>\n",
              "    <tr>\n",
              "      <th>4</th>\n",
              "      <td>105701</td>\n",
              "      <td>44252</td>\n",
              "      <td>71605</td>\n",
              "      <td>127526</td>\n",
              "      <td>64385</td>\n",
              "      <td>36850</td>\n",
              "      <td>118556</td>\n",
              "      <td>71426</td>\n",
              "    </tr>\n",
              "    <tr>\n",
              "      <th>5</th>\n",
              "      <td>75754</td>\n",
              "      <td>27226</td>\n",
              "      <td>45947</td>\n",
              "      <td>79743</td>\n",
              "      <td>35544</td>\n",
              "      <td>46149</td>\n",
              "      <td>97143</td>\n",
              "      <td>56438</td>\n",
              "    </tr>\n",
              "    <tr>\n",
              "      <th>6</th>\n",
              "      <td>74873</td>\n",
              "      <td>29181</td>\n",
              "      <td>40812</td>\n",
              "      <td>75746</td>\n",
              "      <td>37620</td>\n",
              "      <td>53812</td>\n",
              "      <td>100735</td>\n",
              "      <td>53798</td>\n",
              "    </tr>\n",
              "  </tbody>\n",
              "</table>\n",
              "</div>\n",
              "    <div class=\"colab-df-buttons\">\n",
              "\n",
              "  <div class=\"colab-df-container\">\n",
              "    <button class=\"colab-df-convert\" onclick=\"convertToInteractive('df-aff1b89e-61a3-44da-9c26-dc3e522d411d')\"\n",
              "            title=\"Convert this dataframe to an interactive table.\"\n",
              "            style=\"display:none;\">\n",
              "\n",
              "  <svg xmlns=\"http://www.w3.org/2000/svg\" height=\"24px\" viewBox=\"0 -960 960 960\">\n",
              "    <path d=\"M120-120v-720h720v720H120Zm60-500h600v-160H180v160Zm220 220h160v-160H400v160Zm0 220h160v-160H400v160ZM180-400h160v-160H180v160Zm440 0h160v-160H620v160ZM180-180h160v-160H180v160Zm440 0h160v-160H620v160Z\"/>\n",
              "  </svg>\n",
              "    </button>\n",
              "\n",
              "  <style>\n",
              "    .colab-df-container {\n",
              "      display:flex;\n",
              "      gap: 12px;\n",
              "    }\n",
              "\n",
              "    .colab-df-convert {\n",
              "      background-color: #E8F0FE;\n",
              "      border: none;\n",
              "      border-radius: 50%;\n",
              "      cursor: pointer;\n",
              "      display: none;\n",
              "      fill: #1967D2;\n",
              "      height: 32px;\n",
              "      padding: 0 0 0 0;\n",
              "      width: 32px;\n",
              "    }\n",
              "\n",
              "    .colab-df-convert:hover {\n",
              "      background-color: #E2EBFA;\n",
              "      box-shadow: 0px 1px 2px rgba(60, 64, 67, 0.3), 0px 1px 3px 1px rgba(60, 64, 67, 0.15);\n",
              "      fill: #174EA6;\n",
              "    }\n",
              "\n",
              "    .colab-df-buttons div {\n",
              "      margin-bottom: 4px;\n",
              "    }\n",
              "\n",
              "    [theme=dark] .colab-df-convert {\n",
              "      background-color: #3B4455;\n",
              "      fill: #D2E3FC;\n",
              "    }\n",
              "\n",
              "    [theme=dark] .colab-df-convert:hover {\n",
              "      background-color: #434B5C;\n",
              "      box-shadow: 0px 1px 3px 1px rgba(0, 0, 0, 0.15);\n",
              "      filter: drop-shadow(0px 1px 2px rgba(0, 0, 0, 0.3));\n",
              "      fill: #FFFFFF;\n",
              "    }\n",
              "  </style>\n",
              "\n",
              "    <script>\n",
              "      const buttonEl =\n",
              "        document.querySelector('#df-aff1b89e-61a3-44da-9c26-dc3e522d411d button.colab-df-convert');\n",
              "      buttonEl.style.display =\n",
              "        google.colab.kernel.accessAllowed ? 'block' : 'none';\n",
              "\n",
              "      async function convertToInteractive(key) {\n",
              "        const element = document.querySelector('#df-aff1b89e-61a3-44da-9c26-dc3e522d411d');\n",
              "        const dataTable =\n",
              "          await google.colab.kernel.invokeFunction('convertToInteractive',\n",
              "                                                    [key], {});\n",
              "        if (!dataTable) return;\n",
              "\n",
              "        const docLinkHtml = 'Like what you see? Visit the ' +\n",
              "          '<a target=\"_blank\" href=https://colab.research.google.com/notebooks/data_table.ipynb>data table notebook</a>'\n",
              "          + ' to learn more about interactive tables.';\n",
              "        element.innerHTML = '';\n",
              "        dataTable['output_type'] = 'display_data';\n",
              "        await google.colab.output.renderOutput(dataTable, element);\n",
              "        const docLink = document.createElement('div');\n",
              "        docLink.innerHTML = docLinkHtml;\n",
              "        element.appendChild(docLink);\n",
              "      }\n",
              "    </script>\n",
              "  </div>\n",
              "\n",
              "\n",
              "<div id=\"df-fe0032b2-d225-4da4-81b1-07ec9726dc92\">\n",
              "  <button class=\"colab-df-quickchart\" onclick=\"quickchart('df-fe0032b2-d225-4da4-81b1-07ec9726dc92')\"\n",
              "            title=\"Suggest charts\"\n",
              "            style=\"display:none;\">\n",
              "\n",
              "<svg xmlns=\"http://www.w3.org/2000/svg\" height=\"24px\"viewBox=\"0 0 24 24\"\n",
              "     width=\"24px\">\n",
              "    <g>\n",
              "        <path d=\"M19 3H5c-1.1 0-2 .9-2 2v14c0 1.1.9 2 2 2h14c1.1 0 2-.9 2-2V5c0-1.1-.9-2-2-2zM9 17H7v-7h2v7zm4 0h-2V7h2v10zm4 0h-2v-4h2v4z\"/>\n",
              "    </g>\n",
              "</svg>\n",
              "  </button>\n",
              "\n",
              "<style>\n",
              "  .colab-df-quickchart {\n",
              "      --bg-color: #E8F0FE;\n",
              "      --fill-color: #1967D2;\n",
              "      --hover-bg-color: #E2EBFA;\n",
              "      --hover-fill-color: #174EA6;\n",
              "      --disabled-fill-color: #AAA;\n",
              "      --disabled-bg-color: #DDD;\n",
              "  }\n",
              "\n",
              "  [theme=dark] .colab-df-quickchart {\n",
              "      --bg-color: #3B4455;\n",
              "      --fill-color: #D2E3FC;\n",
              "      --hover-bg-color: #434B5C;\n",
              "      --hover-fill-color: #FFFFFF;\n",
              "      --disabled-bg-color: #3B4455;\n",
              "      --disabled-fill-color: #666;\n",
              "  }\n",
              "\n",
              "  .colab-df-quickchart {\n",
              "    background-color: var(--bg-color);\n",
              "    border: none;\n",
              "    border-radius: 50%;\n",
              "    cursor: pointer;\n",
              "    display: none;\n",
              "    fill: var(--fill-color);\n",
              "    height: 32px;\n",
              "    padding: 0;\n",
              "    width: 32px;\n",
              "  }\n",
              "\n",
              "  .colab-df-quickchart:hover {\n",
              "    background-color: var(--hover-bg-color);\n",
              "    box-shadow: 0 1px 2px rgba(60, 64, 67, 0.3), 0 1px 3px 1px rgba(60, 64, 67, 0.15);\n",
              "    fill: var(--button-hover-fill-color);\n",
              "  }\n",
              "\n",
              "  .colab-df-quickchart-complete:disabled,\n",
              "  .colab-df-quickchart-complete:disabled:hover {\n",
              "    background-color: var(--disabled-bg-color);\n",
              "    fill: var(--disabled-fill-color);\n",
              "    box-shadow: none;\n",
              "  }\n",
              "\n",
              "  .colab-df-spinner {\n",
              "    border: 2px solid var(--fill-color);\n",
              "    border-color: transparent;\n",
              "    border-bottom-color: var(--fill-color);\n",
              "    animation:\n",
              "      spin 1s steps(1) infinite;\n",
              "  }\n",
              "\n",
              "  @keyframes spin {\n",
              "    0% {\n",
              "      border-color: transparent;\n",
              "      border-bottom-color: var(--fill-color);\n",
              "      border-left-color: var(--fill-color);\n",
              "    }\n",
              "    20% {\n",
              "      border-color: transparent;\n",
              "      border-left-color: var(--fill-color);\n",
              "      border-top-color: var(--fill-color);\n",
              "    }\n",
              "    30% {\n",
              "      border-color: transparent;\n",
              "      border-left-color: var(--fill-color);\n",
              "      border-top-color: var(--fill-color);\n",
              "      border-right-color: var(--fill-color);\n",
              "    }\n",
              "    40% {\n",
              "      border-color: transparent;\n",
              "      border-right-color: var(--fill-color);\n",
              "      border-top-color: var(--fill-color);\n",
              "    }\n",
              "    60% {\n",
              "      border-color: transparent;\n",
              "      border-right-color: var(--fill-color);\n",
              "    }\n",
              "    80% {\n",
              "      border-color: transparent;\n",
              "      border-right-color: var(--fill-color);\n",
              "      border-bottom-color: var(--fill-color);\n",
              "    }\n",
              "    90% {\n",
              "      border-color: transparent;\n",
              "      border-bottom-color: var(--fill-color);\n",
              "    }\n",
              "  }\n",
              "</style>\n",
              "\n",
              "  <script>\n",
              "    async function quickchart(key) {\n",
              "      const quickchartButtonEl =\n",
              "        document.querySelector('#' + key + ' button');\n",
              "      quickchartButtonEl.disabled = true;  // To prevent multiple clicks.\n",
              "      quickchartButtonEl.classList.add('colab-df-spinner');\n",
              "      try {\n",
              "        const charts = await google.colab.kernel.invokeFunction(\n",
              "            'suggestCharts', [key], {});\n",
              "      } catch (error) {\n",
              "        console.error('Error during call to suggestCharts:', error);\n",
              "      }\n",
              "      quickchartButtonEl.classList.remove('colab-df-spinner');\n",
              "      quickchartButtonEl.classList.add('colab-df-quickchart-complete');\n",
              "    }\n",
              "    (() => {\n",
              "      let quickchartButtonEl =\n",
              "        document.querySelector('#df-fe0032b2-d225-4da4-81b1-07ec9726dc92 button');\n",
              "      quickchartButtonEl.style.display =\n",
              "        google.colab.kernel.accessAllowed ? 'block' : 'none';\n",
              "    })();\n",
              "  </script>\n",
              "</div>\n",
              "\n",
              "  <div id=\"id_71a00d39-9fc7-43d3-bdae-d5e277d92c71\">\n",
              "    <style>\n",
              "      .colab-df-generate {\n",
              "        background-color: #E8F0FE;\n",
              "        border: none;\n",
              "        border-radius: 50%;\n",
              "        cursor: pointer;\n",
              "        display: none;\n",
              "        fill: #1967D2;\n",
              "        height: 32px;\n",
              "        padding: 0 0 0 0;\n",
              "        width: 32px;\n",
              "      }\n",
              "\n",
              "      .colab-df-generate:hover {\n",
              "        background-color: #E2EBFA;\n",
              "        box-shadow: 0px 1px 2px rgba(60, 64, 67, 0.3), 0px 1px 3px 1px rgba(60, 64, 67, 0.15);\n",
              "        fill: #174EA6;\n",
              "      }\n",
              "\n",
              "      [theme=dark] .colab-df-generate {\n",
              "        background-color: #3B4455;\n",
              "        fill: #D2E3FC;\n",
              "      }\n",
              "\n",
              "      [theme=dark] .colab-df-generate:hover {\n",
              "        background-color: #434B5C;\n",
              "        box-shadow: 0px 1px 3px 1px rgba(0, 0, 0, 0.15);\n",
              "        filter: drop-shadow(0px 1px 2px rgba(0, 0, 0, 0.3));\n",
              "        fill: #FFFFFF;\n",
              "      }\n",
              "    </style>\n",
              "    <button class=\"colab-df-generate\" onclick=\"generateWithVariable('df_week')\"\n",
              "            title=\"Generate code using this dataframe.\"\n",
              "            style=\"display:none;\">\n",
              "\n",
              "  <svg xmlns=\"http://www.w3.org/2000/svg\" height=\"24px\"viewBox=\"0 0 24 24\"\n",
              "       width=\"24px\">\n",
              "    <path d=\"M7,19H8.4L18.45,9,17,7.55,7,17.6ZM5,21V16.75L18.45,3.32a2,2,0,0,1,2.83,0l1.4,1.43a1.91,1.91,0,0,1,.58,1.4,1.91,1.91,0,0,1-.58,1.4L9.25,21ZM18.45,9,17,7.55Zm-12,3A5.31,5.31,0,0,0,4.9,8.1,5.31,5.31,0,0,0,1,6.5,5.31,5.31,0,0,0,4.9,4.9,5.31,5.31,0,0,0,6.5,1,5.31,5.31,0,0,0,8.1,4.9,5.31,5.31,0,0,0,12,6.5,5.46,5.46,0,0,0,6.5,12Z\"/>\n",
              "  </svg>\n",
              "    </button>\n",
              "    <script>\n",
              "      (() => {\n",
              "      const buttonEl =\n",
              "        document.querySelector('#id_71a00d39-9fc7-43d3-bdae-d5e277d92c71 button.colab-df-generate');\n",
              "      buttonEl.style.display =\n",
              "        google.colab.kernel.accessAllowed ? 'block' : 'none';\n",
              "\n",
              "      buttonEl.onclick = () => {\n",
              "        google.colab.notebook.generateWithVariable('df_week');\n",
              "      }\n",
              "      })();\n",
              "    </script>\n",
              "  </div>\n",
              "\n",
              "    </div>\n",
              "  </div>\n"
            ],
            "text/plain": [
              "      Berri1    CSC  Mais1   Mais2   Parc  PierDup  Rachel1  Totem_Laurier\n",
              "Date                                                                      \n",
              "0     106826  51646  68087  129982  69767    44500   119211          72883\n",
              "1     117244  54656  76974  141217  74299    40679   123533          76559\n",
              "2     120434  59604  79033  145860  80437    42564   125173          79501\n",
              "3     115193  52340  76273  141424  73668    36349   120684          74540\n",
              "4     105701  44252  71605  127526  64385    36850   118556          71426\n",
              "5      75754  27226  45947   79743  35544    46149    97143          56438\n",
              "6      74873  29181  40812   75746  37620    53812   100735          53798"
            ]
          },
          "execution_count": 100,
          "metadata": {},
          "output_type": "execute_result"
        }
      ],
      "source": [
        "df_week"
      ]
    },
    {
      "cell_type": "code",
      "execution_count": 101,
      "metadata": {
        "colab": {
          "base_uri": "https://localhost:8080/",
          "height": 731
        },
        "id": "Nwu-UvhEi88F",
        "outputId": "e52b30f9-fc8e-4dbc-c224-ba01b6ad86ff"
      },
      "outputs": [
        {
          "name": "stderr",
          "output_type": "stream",
          "text": [
            "<ipython-input-101-caa6ebd82d96>:6: UserWarning: FixedFormatter should only be used together with FixedLocator\n",
            "  ax.set_xticklabels(\n"
          ]
        },
        {
          "data": {
            "image/png": "[encoded data removed]",
            "text/plain": [
              "<Figure size 1000x800 with 1 Axes>"
            ]
          },
          "metadata": {},
          "output_type": "display_data"
        }
      ],
      "source": [
        "fig, ax = plt.subplots(1, 1, figsize=(10, 8))\n",
        "df_week.plot(style='-o', lw=3, ax=ax)\n",
        "ax.set_xlabel('Weekday')\n",
        "# We replace the labels 0, 1, 2... by the weekday\n",
        "# names.\n",
        "ax.set_xticklabels(\n",
        "    ('Monday,Tuesday,Wednesday,Thursday,'\n",
        "     'Friday,Saturday,Sunday').split(','))\n",
        "ax.set_ylim(0)  # Set the bottom axis to 0.\n",
        "plt.show()"
      ]
    },
    {
      "cell_type": "code",
      "execution_count": 102,
      "metadata": {
        "colab": {
          "base_uri": "https://localhost:8080/",
          "height": 749,
          "referenced_widgets": [
            "3a5a5c00c06e46a4856295325e68e196",
            "3e59264151db49f48a847c79864df1ef",
            "465ca95cea9748958a92a00c1a701d1f",
            "9c8bea4c84784a139d21bb88aea30d7f",
            "a159dc07050344d99b4b0b08460ebcb2",
            "9b32a51fa5dd4106a80be5634401cc8f",
            "a482a89f9c0640f58836397849b72743"
          ]
        },
        "id": "DSLH2ElXjD9_",
        "outputId": "2910b263-5dc2-4196-9c3e-80d0815b6cd0"
      },
      "outputs": [
        {
          "data": {
            "application/vnd.jupyter.widget-view+json": {
              "model_id": "3a5a5c00c06e46a4856295325e68e196",
              "version_major": 2,
              "version_minor": 0
            },
            "text/plain": [
              "interactive(children=(IntSlider(value=15, description='n', max=30, min=1), Output()), _dom_classes=('widget-in…"
            ]
          },
          "metadata": {},
          "output_type": "display_data"
        }
      ],
      "source": [
        "from ipywidgets import interact\n",
        "\n",
        "@interact\n",
        "def plot(n=(1, 30)):\n",
        "    fig, ax = plt.subplots(1, 1, figsize=(10, 8))\n",
        "    df['Berri1'].rolling(window=n).mean().plot(ax=ax)\n",
        "    ax.set_ylim(0, 7000)\n",
        "    plt.show()"
      ]
    },
    {
      "cell_type": "markdown",
      "metadata": {
        "id": "hbPo9UtaMcys"
      },
      "source": [
        "Referencias:\n",
        "* Curso introductorio Python del Colegio de Matemáticas Bourbaki\n",
        "* Python Cookbook: https://github.com/Phil9l/python-cookbook/tree/master\n",
        "* 1.2. Getting started with exploratory data analysis in the Jupyter Notebook: https://ipython-books.github.io/12-getting-started-with-exploratory-data-analysis-in-the-jupyter-notebook/"
      ]
    },
    {
      "cell_type": "markdown",
      "metadata": {},
      "source": [
        "![Lenguaje Matemático](./Images/Matematicas.png)"
      ]
    },
    {
      "cell_type": "markdown",
      "metadata": {},
      "source": [
        "![Contacto](./Images/Contacto.png)"
      ]
    }
  ],
  "metadata": {
    "colab": {
      "provenance": []
    },
    "kernelspec": {
      "display_name": "Python 3",
      "name": "python3"
    },
    "language_info": {
      "name": "python"
    },
    "widgets": {
      "application/vnd.jupyter.widget-state+json": {
        "3a5a5c00c06e46a4856295325e68e196": {
          "model_module": "@jupyter-widgets/controls",
          "model_module_version": "1.5.0",
          "model_name": "VBoxModel",
          "state": {
            "_dom_classes": [
              "widget-interact"
            ],
            "_model_module": "@jupyter-widgets/controls",
            "_model_module_version": "1.5.0",
            "_model_name": "VBoxModel",
            "_view_count": null,
            "_view_module": "@jupyter-widgets/controls",
            "_view_module_version": "1.5.0",
            "_view_name": "VBoxView",
            "box_style": "",
            "children": [
              "IPY_MODEL_3e59264151db49f48a847c79864df1ef",
              "IPY_MODEL_465ca95cea9748958a92a00c1a701d1f"
            ],
            "layout": "IPY_MODEL_9c8bea4c84784a139d21bb88aea30d7f"
          }
        },
        "3e59264151db49f48a847c79864df1ef": {
          "model_module": "@jupyter-widgets/controls",
          "model_module_version": "1.5.0",
          "model_name": "IntSliderModel",
          "state": {
            "_dom_classes": [],
            "_model_module": "@jupyter-widgets/controls",
            "_model_module_version": "1.5.0",
            "_model_name": "IntSliderModel",
            "_view_count": null,
            "_view_module": "@jupyter-widgets/controls",
            "_view_module_version": "1.5.0",
            "_view_name": "IntSliderView",
            "continuous_update": true,
            "description": "n",
            "description_tooltip": null,
            "disabled": false,
            "layout": "IPY_MODEL_a159dc07050344d99b4b0b08460ebcb2",
            "max": 30,
            "min": 1,
            "orientation": "horizontal",
            "readout": true,
            "readout_format": "d",
            "step": 1,
            "style": "IPY_MODEL_9b32a51fa5dd4106a80be5634401cc8f",
            "value": 15
          }
        },
        "465ca95cea9748958a92a00c1a701d1f": {
          "model_module": "@jupyter-widgets/output",
          "model_module_version": "1.0.0",
          "model_name": "OutputModel",
          "state": {
            "_dom_classes": [],
            "_model_module": "@jupyter-widgets/output",
            "_model_module_version": "1.0.0",
            "_model_name": "OutputModel",
            "_view_count": null,
            "_view_module": "@jupyter-widgets/output",
            "_view_module_version": "1.0.0",
            "_view_name": "OutputView",
            "layout": "IPY_MODEL_a482a89f9c0640f58836397849b72743",
            "msg_id": "",
            "outputs": [
              {
                "data": {
                  "image/png": "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\n",
                  "text/plain": "<Figure size 1000x800 with 1 Axes>"
                },
                "metadata": {},
                "output_type": "display_data"
              }
            ]
          }
        },
        "9b32a51fa5dd4106a80be5634401cc8f": {
          "model_module": "@jupyter-widgets/controls",
          "model_module_version": "1.5.0",
          "model_name": "SliderStyleModel",
          "state": {
            "_model_module": "@jupyter-widgets/controls",
            "_model_module_version": "1.5.0",
            "_model_name": "SliderStyleModel",
            "_view_count": null,
            "_view_module": "@jupyter-widgets/base",
            "_view_module_version": "1.2.0",
            "_view_name": "StyleView",
            "description_width": "",
            "handle_color": null
          }
        },
        "9c8bea4c84784a139d21bb88aea30d7f": {
          "model_module": "@jupyter-widgets/base",
          "model_module_version": "1.2.0",
          "model_name": "LayoutModel",
          "state": {
            "_model_module": "@jupyter-widgets/base",
            "_model_module_version": "1.2.0",
            "_model_name": "LayoutModel",
            "_view_count": null,
            "_view_module": "@jupyter-widgets/base",
            "_view_module_version": "1.2.0",
            "_view_name": "LayoutView",
            "align_content": null,
            "align_items": null,
            "align_self": null,
            "border": null,
            "bottom": null,
            "display": null,
            "flex": null,
            "flex_flow": null,
            "grid_area": null,
            "grid_auto_columns": null,
            "grid_auto_flow": null,
            "grid_auto_rows": null,
            "grid_column": null,
            "grid_gap": null,
            "grid_row": null,
            "grid_template_areas": null,
            "grid_template_columns": null,
            "grid_template_rows": null,
            "height": null,
            "justify_content": null,
            "justify_items": null,
            "left": null,
            "margin": null,
            "max_height": null,
            "max_width": null,
            "min_height": null,
            "min_width": null,
            "object_fit": null,
            "object_position": null,
            "order": null,
            "overflow": null,
            "overflow_x": null,
            "overflow_y": null,
            "padding": null,
            "right": null,
            "top": null,
            "visibility": null,
            "width": null
          }
        },
        "a159dc07050344d99b4b0b08460ebcb2": {
          "model_module": "@jupyter-widgets/base",
          "model_module_version": "1.2.0",
          "model_name": "LayoutModel",
          "state": {
            "_model_module": "@jupyter-widgets/base",
            "_model_module_version": "1.2.0",
            "_model_name": "LayoutModel",
            "_view_count": null,
            "_view_module": "@jupyter-widgets/base",
            "_view_module_version": "1.2.0",
            "_view_name": "LayoutView",
            "align_content": null,
            "align_items": null,
            "align_self": null,
            "border": null,
            "bottom": null,
            "display": null,
            "flex": null,
            "flex_flow": null,
            "grid_area": null,
            "grid_auto_columns": null,
            "grid_auto_flow": null,
            "grid_auto_rows": null,
            "grid_column": null,
            "grid_gap": null,
            "grid_row": null,
            "grid_template_areas": null,
            "grid_template_columns": null,
            "grid_template_rows": null,
            "height": null,
            "justify_content": null,
            "justify_items": null,
            "left": null,
            "margin": null,
            "max_height": null,
            "max_width": null,
            "min_height": null,
            "min_width": null,
            "object_fit": null,
            "object_position": null,
            "order": null,
            "overflow": null,
            "overflow_x": null,
            "overflow_y": null,
            "padding": null,
            "right": null,
            "top": null,
            "visibility": null,
            "width": null
          }
        },
        "a482a89f9c0640f58836397849b72743": {
          "model_module": "@jupyter-widgets/base",
          "model_module_version": "1.2.0",
          "model_name": "LayoutModel",
          "state": {
            "_model_module": "@jupyter-widgets/base",
            "_model_module_version": "1.2.0",
            "_model_name": "LayoutModel",
            "_view_count": null,
            "_view_module": "@jupyter-widgets/base",
            "_view_module_version": "1.2.0",
            "_view_name": "LayoutView",
            "align_content": null,
            "align_items": null,
            "align_self": null,
            "border": null,
            "bottom": null,
            "display": null,
            "flex": null,
            "flex_flow": null,
            "grid_area": null,
            "grid_auto_columns": null,
            "grid_auto_flow": null,
            "grid_auto_rows": null,
            "grid_column": null,
            "grid_gap": null,
            "grid_row": null,
            "grid_template_areas": null,
            "grid_template_columns": null,
            "grid_template_rows": null,
            "height": null,
            "justify_content": null,
            "justify_items": null,
            "left": null,
            "margin": null,
            "max_height": null,
            "max_width": null,
            "min_height": null,
            "min_width": null,
            "object_fit": null,
            "object_position": null,
            "order": null,
            "overflow": null,
            "overflow_x": null,
            "overflow_y": null,
            "padding": null,
            "right": null,
            "top": null,
            "visibility": null,
            "width": null
          }
        }
      }
    }
  },
  "nbformat": 4,
  "nbformat_minor": 0
}
